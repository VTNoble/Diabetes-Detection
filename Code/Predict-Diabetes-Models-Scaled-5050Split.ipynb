{
 "cells": [
  {
   "cell_type": "markdown",
   "id": "47c044a4",
   "metadata": {},
   "source": [
    "## Looking at how the models perform on a dataset trimmed to have a 50/50 split on the target variable (Diabetes_binary). Full dataset was over 85% non-diabetic, which can add unwanted bias to the model."
   ]
  },
  {
   "cell_type": "markdown",
   "id": "7cbac5ac",
   "metadata": {},
   "source": [
    "## Part 1: Prepare the Data"
   ]
  },
  {
   "cell_type": "code",
   "execution_count": 1,
   "id": "b8e9a4c8",
   "metadata": {},
   "outputs": [],
   "source": [
    "# Import Dependencies\n",
    "%matplotlib inline\n",
    "from matplotlib import pyplot as plt\n",
    "import pandas as pd\n",
    "import numpy as np\n",
    "from pathlib import Path\n",
    "from sklearn.preprocessing import StandardScaler\n",
    "from sklearn.model_selection import train_test_split\n",
    "from sklearn.linear_model import LogisticRegression\n",
    "from sklearn.ensemble import RandomForestClassifier\n",
    "from sklearn.ensemble import ExtraTreesClassifier\n",
    "from sklearn.ensemble import AdaBoostClassifier\n",
    "from sklearn.metrics import classification_report, confusion_matrix"
   ]
  },
  {
   "cell_type": "markdown",
   "id": "a1500dad",
   "metadata": {},
   "source": [
    "Load the data into a Pandas DataFrame and fetch the top 10 rows."
   ]
  },
  {
   "cell_type": "code",
   "execution_count": 2,
   "id": "0ef2f01f",
   "metadata": {},
   "outputs": [
    {
     "data": {
      "text/html": [
       "<div>\n",
       "<style scoped>\n",
       "    .dataframe tbody tr th:only-of-type {\n",
       "        vertical-align: middle;\n",
       "    }\n",
       "\n",
       "    .dataframe tbody tr th {\n",
       "        vertical-align: top;\n",
       "    }\n",
       "\n",
       "    .dataframe thead th {\n",
       "        text-align: right;\n",
       "    }\n",
       "</style>\n",
       "<table border=\"1\" class=\"dataframe\">\n",
       "  <thead>\n",
       "    <tr style=\"text-align: right;\">\n",
       "      <th></th>\n",
       "      <th>Diabetes_binary</th>\n",
       "      <th>HighBP</th>\n",
       "      <th>HighChol</th>\n",
       "      <th>CholCheck</th>\n",
       "      <th>BMI</th>\n",
       "      <th>Smoker</th>\n",
       "      <th>Stroke</th>\n",
       "      <th>HeartDiseaseorAttack</th>\n",
       "      <th>PhysActivity</th>\n",
       "      <th>Fruits</th>\n",
       "      <th>...</th>\n",
       "      <th>AnyHealthcare</th>\n",
       "      <th>NoDocbcCost</th>\n",
       "      <th>GenHlth</th>\n",
       "      <th>MentHlth</th>\n",
       "      <th>PhysHlth</th>\n",
       "      <th>DiffWalk</th>\n",
       "      <th>Sex</th>\n",
       "      <th>Age</th>\n",
       "      <th>Education</th>\n",
       "      <th>Income</th>\n",
       "    </tr>\n",
       "  </thead>\n",
       "  <tbody>\n",
       "    <tr>\n",
       "      <th>0</th>\n",
       "      <td>0.0</td>\n",
       "      <td>1.0</td>\n",
       "      <td>0.0</td>\n",
       "      <td>1.0</td>\n",
       "      <td>26.0</td>\n",
       "      <td>0.0</td>\n",
       "      <td>0.0</td>\n",
       "      <td>0.0</td>\n",
       "      <td>1.0</td>\n",
       "      <td>0.0</td>\n",
       "      <td>...</td>\n",
       "      <td>1.0</td>\n",
       "      <td>0.0</td>\n",
       "      <td>3.0</td>\n",
       "      <td>5.0</td>\n",
       "      <td>30.0</td>\n",
       "      <td>0.0</td>\n",
       "      <td>1.0</td>\n",
       "      <td>4.0</td>\n",
       "      <td>6.0</td>\n",
       "      <td>8.0</td>\n",
       "    </tr>\n",
       "    <tr>\n",
       "      <th>1</th>\n",
       "      <td>0.0</td>\n",
       "      <td>1.0</td>\n",
       "      <td>1.0</td>\n",
       "      <td>1.0</td>\n",
       "      <td>26.0</td>\n",
       "      <td>1.0</td>\n",
       "      <td>1.0</td>\n",
       "      <td>0.0</td>\n",
       "      <td>0.0</td>\n",
       "      <td>1.0</td>\n",
       "      <td>...</td>\n",
       "      <td>1.0</td>\n",
       "      <td>0.0</td>\n",
       "      <td>3.0</td>\n",
       "      <td>0.0</td>\n",
       "      <td>0.0</td>\n",
       "      <td>0.0</td>\n",
       "      <td>1.0</td>\n",
       "      <td>12.0</td>\n",
       "      <td>6.0</td>\n",
       "      <td>8.0</td>\n",
       "    </tr>\n",
       "    <tr>\n",
       "      <th>2</th>\n",
       "      <td>0.0</td>\n",
       "      <td>0.0</td>\n",
       "      <td>0.0</td>\n",
       "      <td>1.0</td>\n",
       "      <td>26.0</td>\n",
       "      <td>0.0</td>\n",
       "      <td>0.0</td>\n",
       "      <td>0.0</td>\n",
       "      <td>1.0</td>\n",
       "      <td>1.0</td>\n",
       "      <td>...</td>\n",
       "      <td>1.0</td>\n",
       "      <td>0.0</td>\n",
       "      <td>1.0</td>\n",
       "      <td>0.0</td>\n",
       "      <td>10.0</td>\n",
       "      <td>0.0</td>\n",
       "      <td>1.0</td>\n",
       "      <td>13.0</td>\n",
       "      <td>6.0</td>\n",
       "      <td>8.0</td>\n",
       "    </tr>\n",
       "    <tr>\n",
       "      <th>3</th>\n",
       "      <td>0.0</td>\n",
       "      <td>1.0</td>\n",
       "      <td>1.0</td>\n",
       "      <td>1.0</td>\n",
       "      <td>28.0</td>\n",
       "      <td>1.0</td>\n",
       "      <td>0.0</td>\n",
       "      <td>0.0</td>\n",
       "      <td>1.0</td>\n",
       "      <td>1.0</td>\n",
       "      <td>...</td>\n",
       "      <td>1.0</td>\n",
       "      <td>0.0</td>\n",
       "      <td>3.0</td>\n",
       "      <td>0.0</td>\n",
       "      <td>3.0</td>\n",
       "      <td>0.0</td>\n",
       "      <td>1.0</td>\n",
       "      <td>11.0</td>\n",
       "      <td>6.0</td>\n",
       "      <td>8.0</td>\n",
       "    </tr>\n",
       "    <tr>\n",
       "      <th>4</th>\n",
       "      <td>0.0</td>\n",
       "      <td>0.0</td>\n",
       "      <td>0.0</td>\n",
       "      <td>1.0</td>\n",
       "      <td>29.0</td>\n",
       "      <td>1.0</td>\n",
       "      <td>0.0</td>\n",
       "      <td>0.0</td>\n",
       "      <td>1.0</td>\n",
       "      <td>1.0</td>\n",
       "      <td>...</td>\n",
       "      <td>1.0</td>\n",
       "      <td>0.0</td>\n",
       "      <td>2.0</td>\n",
       "      <td>0.0</td>\n",
       "      <td>0.0</td>\n",
       "      <td>0.0</td>\n",
       "      <td>0.0</td>\n",
       "      <td>8.0</td>\n",
       "      <td>5.0</td>\n",
       "      <td>8.0</td>\n",
       "    </tr>\n",
       "    <tr>\n",
       "      <th>5</th>\n",
       "      <td>0.0</td>\n",
       "      <td>0.0</td>\n",
       "      <td>0.0</td>\n",
       "      <td>1.0</td>\n",
       "      <td>18.0</td>\n",
       "      <td>0.0</td>\n",
       "      <td>0.0</td>\n",
       "      <td>0.0</td>\n",
       "      <td>1.0</td>\n",
       "      <td>1.0</td>\n",
       "      <td>...</td>\n",
       "      <td>0.0</td>\n",
       "      <td>0.0</td>\n",
       "      <td>2.0</td>\n",
       "      <td>7.0</td>\n",
       "      <td>0.0</td>\n",
       "      <td>0.0</td>\n",
       "      <td>0.0</td>\n",
       "      <td>1.0</td>\n",
       "      <td>4.0</td>\n",
       "      <td>7.0</td>\n",
       "    </tr>\n",
       "    <tr>\n",
       "      <th>6</th>\n",
       "      <td>0.0</td>\n",
       "      <td>0.0</td>\n",
       "      <td>1.0</td>\n",
       "      <td>1.0</td>\n",
       "      <td>26.0</td>\n",
       "      <td>1.0</td>\n",
       "      <td>0.0</td>\n",
       "      <td>0.0</td>\n",
       "      <td>1.0</td>\n",
       "      <td>1.0</td>\n",
       "      <td>...</td>\n",
       "      <td>1.0</td>\n",
       "      <td>0.0</td>\n",
       "      <td>1.0</td>\n",
       "      <td>0.0</td>\n",
       "      <td>0.0</td>\n",
       "      <td>0.0</td>\n",
       "      <td>1.0</td>\n",
       "      <td>13.0</td>\n",
       "      <td>5.0</td>\n",
       "      <td>6.0</td>\n",
       "    </tr>\n",
       "    <tr>\n",
       "      <th>7</th>\n",
       "      <td>0.0</td>\n",
       "      <td>0.0</td>\n",
       "      <td>0.0</td>\n",
       "      <td>1.0</td>\n",
       "      <td>31.0</td>\n",
       "      <td>1.0</td>\n",
       "      <td>0.0</td>\n",
       "      <td>0.0</td>\n",
       "      <td>0.0</td>\n",
       "      <td>1.0</td>\n",
       "      <td>...</td>\n",
       "      <td>1.0</td>\n",
       "      <td>0.0</td>\n",
       "      <td>4.0</td>\n",
       "      <td>0.0</td>\n",
       "      <td>0.0</td>\n",
       "      <td>0.0</td>\n",
       "      <td>1.0</td>\n",
       "      <td>6.0</td>\n",
       "      <td>4.0</td>\n",
       "      <td>3.0</td>\n",
       "    </tr>\n",
       "    <tr>\n",
       "      <th>8</th>\n",
       "      <td>0.0</td>\n",
       "      <td>0.0</td>\n",
       "      <td>0.0</td>\n",
       "      <td>1.0</td>\n",
       "      <td>32.0</td>\n",
       "      <td>0.0</td>\n",
       "      <td>0.0</td>\n",
       "      <td>0.0</td>\n",
       "      <td>1.0</td>\n",
       "      <td>1.0</td>\n",
       "      <td>...</td>\n",
       "      <td>1.0</td>\n",
       "      <td>0.0</td>\n",
       "      <td>3.0</td>\n",
       "      <td>0.0</td>\n",
       "      <td>0.0</td>\n",
       "      <td>0.0</td>\n",
       "      <td>0.0</td>\n",
       "      <td>3.0</td>\n",
       "      <td>6.0</td>\n",
       "      <td>8.0</td>\n",
       "    </tr>\n",
       "    <tr>\n",
       "      <th>9</th>\n",
       "      <td>0.0</td>\n",
       "      <td>0.0</td>\n",
       "      <td>0.0</td>\n",
       "      <td>1.0</td>\n",
       "      <td>27.0</td>\n",
       "      <td>1.0</td>\n",
       "      <td>0.0</td>\n",
       "      <td>0.0</td>\n",
       "      <td>0.0</td>\n",
       "      <td>1.0</td>\n",
       "      <td>...</td>\n",
       "      <td>1.0</td>\n",
       "      <td>0.0</td>\n",
       "      <td>3.0</td>\n",
       "      <td>0.0</td>\n",
       "      <td>6.0</td>\n",
       "      <td>0.0</td>\n",
       "      <td>1.0</td>\n",
       "      <td>6.0</td>\n",
       "      <td>4.0</td>\n",
       "      <td>4.0</td>\n",
       "    </tr>\n",
       "  </tbody>\n",
       "</table>\n",
       "<p>10 rows × 22 columns</p>\n",
       "</div>"
      ],
      "text/plain": [
       "   Diabetes_binary  HighBP  HighChol  CholCheck   BMI  Smoker  Stroke  \\\n",
       "0              0.0     1.0       0.0        1.0  26.0     0.0     0.0   \n",
       "1              0.0     1.0       1.0        1.0  26.0     1.0     1.0   \n",
       "2              0.0     0.0       0.0        1.0  26.0     0.0     0.0   \n",
       "3              0.0     1.0       1.0        1.0  28.0     1.0     0.0   \n",
       "4              0.0     0.0       0.0        1.0  29.0     1.0     0.0   \n",
       "5              0.0     0.0       0.0        1.0  18.0     0.0     0.0   \n",
       "6              0.0     0.0       1.0        1.0  26.0     1.0     0.0   \n",
       "7              0.0     0.0       0.0        1.0  31.0     1.0     0.0   \n",
       "8              0.0     0.0       0.0        1.0  32.0     0.0     0.0   \n",
       "9              0.0     0.0       0.0        1.0  27.0     1.0     0.0   \n",
       "\n",
       "   HeartDiseaseorAttack  PhysActivity  Fruits  ...  AnyHealthcare  \\\n",
       "0                   0.0           1.0     0.0  ...            1.0   \n",
       "1                   0.0           0.0     1.0  ...            1.0   \n",
       "2                   0.0           1.0     1.0  ...            1.0   \n",
       "3                   0.0           1.0     1.0  ...            1.0   \n",
       "4                   0.0           1.0     1.0  ...            1.0   \n",
       "5                   0.0           1.0     1.0  ...            0.0   \n",
       "6                   0.0           1.0     1.0  ...            1.0   \n",
       "7                   0.0           0.0     1.0  ...            1.0   \n",
       "8                   0.0           1.0     1.0  ...            1.0   \n",
       "9                   0.0           0.0     1.0  ...            1.0   \n",
       "\n",
       "   NoDocbcCost  GenHlth  MentHlth  PhysHlth  DiffWalk  Sex   Age  Education  \\\n",
       "0          0.0      3.0       5.0      30.0       0.0  1.0   4.0        6.0   \n",
       "1          0.0      3.0       0.0       0.0       0.0  1.0  12.0        6.0   \n",
       "2          0.0      1.0       0.0      10.0       0.0  1.0  13.0        6.0   \n",
       "3          0.0      3.0       0.0       3.0       0.0  1.0  11.0        6.0   \n",
       "4          0.0      2.0       0.0       0.0       0.0  0.0   8.0        5.0   \n",
       "5          0.0      2.0       7.0       0.0       0.0  0.0   1.0        4.0   \n",
       "6          0.0      1.0       0.0       0.0       0.0  1.0  13.0        5.0   \n",
       "7          0.0      4.0       0.0       0.0       0.0  1.0   6.0        4.0   \n",
       "8          0.0      3.0       0.0       0.0       0.0  0.0   3.0        6.0   \n",
       "9          0.0      3.0       0.0       6.0       0.0  1.0   6.0        4.0   \n",
       "\n",
       "   Income  \n",
       "0     8.0  \n",
       "1     8.0  \n",
       "2     8.0  \n",
       "3     8.0  \n",
       "4     8.0  \n",
       "5     7.0  \n",
       "6     6.0  \n",
       "7     3.0  \n",
       "8     8.0  \n",
       "9     4.0  \n",
       "\n",
       "[10 rows x 22 columns]"
      ]
     },
     "execution_count": 2,
     "metadata": {},
     "output_type": "execute_result"
    }
   ],
   "source": [
    "# Read in CSV\n",
    "file_path = Path(\"../Resources/diabetes_data_5050split.csv\")\n",
    "df = pd.read_csv(file_path)\n",
    "df.head(10)"
   ]
  },
  {
   "cell_type": "markdown",
   "id": "434ecc07",
   "metadata": {},
   "source": [
    "List the DataFrame's data types to ensure they're aligned to the type of data stored on each column."
   ]
  },
  {
   "cell_type": "code",
   "execution_count": 3,
   "id": "bf6b5c1d",
   "metadata": {},
   "outputs": [
    {
     "data": {
      "text/plain": [
       "Diabetes_binary         float64\n",
       "HighBP                  float64\n",
       "HighChol                float64\n",
       "CholCheck               float64\n",
       "BMI                     float64\n",
       "Smoker                  float64\n",
       "Stroke                  float64\n",
       "HeartDiseaseorAttack    float64\n",
       "PhysActivity            float64\n",
       "Fruits                  float64\n",
       "Veggies                 float64\n",
       "HvyAlcoholConsump       float64\n",
       "AnyHealthcare           float64\n",
       "NoDocbcCost             float64\n",
       "GenHlth                 float64\n",
       "MentHlth                float64\n",
       "PhysHlth                float64\n",
       "DiffWalk                float64\n",
       "Sex                     float64\n",
       "Age                     float64\n",
       "Education               float64\n",
       "Income                  float64\n",
       "dtype: object"
      ]
     },
     "execution_count": 3,
     "metadata": {},
     "output_type": "execute_result"
    }
   ],
   "source": [
    "# List dataframe data types\n",
    "df.dtypes"
   ]
  },
  {
   "cell_type": "markdown",
   "id": "53a8698f",
   "metadata": {},
   "source": [
    "Remove all rows with `null` values if any."
   ]
  },
  {
   "cell_type": "code",
   "execution_count": 4,
   "id": "ee934b97",
   "metadata": {},
   "outputs": [
    {
     "name": "stdout",
     "output_type": "stream",
     "text": [
      "Column Diabetes_binary has 0 null values\n",
      "Column HighBP has 0 null values\n",
      "Column HighChol has 0 null values\n",
      "Column CholCheck has 0 null values\n",
      "Column BMI has 0 null values\n",
      "Column Smoker has 0 null values\n",
      "Column Stroke has 0 null values\n",
      "Column HeartDiseaseorAttack has 0 null values\n",
      "Column PhysActivity has 0 null values\n",
      "Column Fruits has 0 null values\n",
      "Column Veggies has 0 null values\n",
      "Column HvyAlcoholConsump has 0 null values\n",
      "Column AnyHealthcare has 0 null values\n",
      "Column NoDocbcCost has 0 null values\n",
      "Column GenHlth has 0 null values\n",
      "Column MentHlth has 0 null values\n",
      "Column PhysHlth has 0 null values\n",
      "Column DiffWalk has 0 null values\n",
      "Column Sex has 0 null values\n",
      "Column Age has 0 null values\n",
      "Column Education has 0 null values\n",
      "Column Income has 0 null values\n"
     ]
    }
   ],
   "source": [
    "# Find null values\n",
    "for column in df.columns:\n",
    "    print(f\"Column {column} has {df[column].isnull().sum()} null values\")"
   ]
  },
  {
   "cell_type": "code",
   "execution_count": 5,
   "id": "17c2b101",
   "metadata": {},
   "outputs": [
    {
     "name": "stdout",
     "output_type": "stream",
     "text": [
      "Column Diabetes_binary has 0.0 as minimum value\n",
      "Column Diabetes_binary has 1.0 as maximum value\n",
      "Column HighBP has 0.0 as minimum value\n",
      "Column HighBP has 1.0 as maximum value\n",
      "Column HighChol has 0.0 as minimum value\n",
      "Column HighChol has 1.0 as maximum value\n",
      "Column CholCheck has 0.0 as minimum value\n",
      "Column CholCheck has 1.0 as maximum value\n",
      "Column BMI has 12.0 as minimum value\n",
      "Column BMI has 98.0 as maximum value\n",
      "Column Smoker has 0.0 as minimum value\n",
      "Column Smoker has 1.0 as maximum value\n",
      "Column Stroke has 0.0 as minimum value\n",
      "Column Stroke has 1.0 as maximum value\n",
      "Column HeartDiseaseorAttack has 0.0 as minimum value\n",
      "Column HeartDiseaseorAttack has 1.0 as maximum value\n",
      "Column PhysActivity has 0.0 as minimum value\n",
      "Column PhysActivity has 1.0 as maximum value\n",
      "Column Fruits has 0.0 as minimum value\n",
      "Column Fruits has 1.0 as maximum value\n",
      "Column Veggies has 0.0 as minimum value\n",
      "Column Veggies has 1.0 as maximum value\n",
      "Column HvyAlcoholConsump has 0.0 as minimum value\n",
      "Column HvyAlcoholConsump has 1.0 as maximum value\n",
      "Column AnyHealthcare has 0.0 as minimum value\n",
      "Column AnyHealthcare has 1.0 as maximum value\n",
      "Column NoDocbcCost has 0.0 as minimum value\n",
      "Column NoDocbcCost has 1.0 as maximum value\n",
      "Column GenHlth has 1.0 as minimum value\n",
      "Column GenHlth has 5.0 as maximum value\n",
      "Column MentHlth has 0.0 as minimum value\n",
      "Column MentHlth has 30.0 as maximum value\n",
      "Column PhysHlth has 0.0 as minimum value\n",
      "Column PhysHlth has 30.0 as maximum value\n",
      "Column DiffWalk has 0.0 as minimum value\n",
      "Column DiffWalk has 1.0 as maximum value\n",
      "Column Sex has 0.0 as minimum value\n",
      "Column Sex has 1.0 as maximum value\n",
      "Column Age has 1.0 as minimum value\n",
      "Column Age has 13.0 as maximum value\n",
      "Column Education has 1.0 as minimum value\n",
      "Column Education has 6.0 as maximum value\n",
      "Column Income has 1.0 as minimum value\n",
      "Column Income has 8.0 as maximum value\n"
     ]
    }
   ],
   "source": [
    "# Look at min and max values\n",
    "for column in df.columns:\n",
    "    print(f\"Column {column} has {df[column].min()} as minimum value\")\n",
    "    print(f\"Column {column} has {df[column].max()} as maximum value\")"
   ]
  },
  {
   "cell_type": "markdown",
   "id": "4124449d",
   "metadata": {},
   "source": [
    "No null values were found. Check for duplicates."
   ]
  },
  {
   "cell_type": "code",
   "execution_count": 6,
   "id": "984e0e8d",
   "metadata": {},
   "outputs": [
    {
     "name": "stdout",
     "output_type": "stream",
     "text": [
      "Duplicate entries: 1635\n"
     ]
    }
   ],
   "source": [
    "# Find duplicate entries\n",
    "print(f\"Duplicate entries: {df.duplicated().sum()}\")"
   ]
  },
  {
   "cell_type": "code",
   "execution_count": 7,
   "id": "06c52052",
   "metadata": {},
   "outputs": [],
   "source": [
    "# Drop duplicate entries\n",
    "df = df.drop_duplicates()"
   ]
  },
  {
   "cell_type": "code",
   "execution_count": 8,
   "id": "be74e85d",
   "metadata": {},
   "outputs": [
    {
     "name": "stdout",
     "output_type": "stream",
     "text": [
      "Duplicate entries: 0\n"
     ]
    }
   ],
   "source": [
    "# Confirm that duplicate entries have been dropped\n",
    "print(f\"Duplicate entries: {df.duplicated().sum()}\")"
   ]
  },
  {
   "cell_type": "markdown",
   "id": "4ba1382e",
   "metadata": {},
   "source": [
    "Check for duplicates but ignore the target variable."
   ]
  },
  {
   "cell_type": "code",
   "execution_count": 9,
   "id": "781c5686",
   "metadata": {},
   "outputs": [
    {
     "name": "stdout",
     "output_type": "stream",
     "text": [
      "Duplicate entries excluding the target variable: 408\n"
     ]
    }
   ],
   "source": [
    "# Find duplicate entries ignoring target column\n",
    "features = ['HighBP', 'HighChol', 'CholCheck', 'BMI', 'Smoker',\n",
    "       'Stroke', 'HeartDiseaseorAttack', 'PhysActivity', 'Fruits', 'Veggies',\n",
    "       'HvyAlcoholConsump', 'AnyHealthcare', 'NoDocbcCost', 'GenHlth',\n",
    "       'MentHlth', 'PhysHlth', 'DiffWalk', 'Sex', 'Age', 'Education',\n",
    "       'Income']\n",
    "print(f\"Duplicate entries excluding the target variable: {df.duplicated(subset=features).sum()}\")"
   ]
  },
  {
   "cell_type": "code",
   "execution_count": 10,
   "id": "6d4d45be",
   "metadata": {},
   "outputs": [],
   "source": [
    "# Drop duplicate entries\n",
    "df = df.drop_duplicates(subset=features, keep=False)"
   ]
  },
  {
   "cell_type": "code",
   "execution_count": 11,
   "id": "024ecb32",
   "metadata": {},
   "outputs": [
    {
     "name": "stdout",
     "output_type": "stream",
     "text": [
      "Duplicate entries excluding the target variable: 0\n"
     ]
    }
   ],
   "source": [
    "# Confirm that duplicate entries have been dropped\n",
    "print(f\"Duplicate entries excluding the target variable: {df.duplicated(subset=features).sum()}\")"
   ]
  },
  {
   "cell_type": "code",
   "execution_count": 12,
   "id": "728e6833",
   "metadata": {},
   "outputs": [
    {
     "data": {
      "text/plain": [
       "(68241, 22)"
      ]
     },
     "execution_count": 12,
     "metadata": {},
     "output_type": "execute_result"
    }
   ],
   "source": [
    "# Evaluate shape after dropping duplicates\n",
    "df.shape"
   ]
  },
  {
   "cell_type": "markdown",
   "id": "65440499",
   "metadata": {},
   "source": [
    "Export CSV for Tableau Visualizations"
   ]
  },
  {
   "cell_type": "code",
   "execution_count": 13,
   "id": "e1bee3a5",
   "metadata": {},
   "outputs": [],
   "source": [
    "# export csv. commented out to avoid overwriting file once exported\n",
    "#df.to_csv('../Resources/viz_data.csv', index_label='index')"
   ]
  },
  {
   "cell_type": "markdown",
   "id": "eb311e47",
   "metadata": {},
   "source": [
    "Standardize the dataset so that columns that contain larger values do not influence the outcome more than columns with smaller values. Exclude columns that already have binary or binned data from scaling."
   ]
  },
  {
   "cell_type": "code",
   "execution_count": 14,
   "id": "477acf2a",
   "metadata": {},
   "outputs": [],
   "source": [
    "# Scale the data\n",
    "scaler = StandardScaler()\n",
    "scaled_data = scaler.fit_transform(df[['BMI', 'MentHlth', 'PhysHlth']])"
   ]
  },
  {
   "cell_type": "code",
   "execution_count": 15,
   "id": "558270bf",
   "metadata": {},
   "outputs": [
    {
     "data": {
      "text/plain": [
       "Index(['Diabetes_binary', 'HighBP', 'HighChol', 'CholCheck', 'BMI', 'Smoker',\n",
       "       'Stroke', 'HeartDiseaseorAttack', 'PhysActivity', 'Fruits', 'Veggies',\n",
       "       'HvyAlcoholConsump', 'AnyHealthcare', 'NoDocbcCost', 'GenHlth',\n",
       "       'MentHlth', 'PhysHlth', 'DiffWalk', 'Sex', 'Age', 'Education',\n",
       "       'Income'],\n",
       "      dtype='object')"
      ]
     },
     "execution_count": 15,
     "metadata": {},
     "output_type": "execute_result"
    }
   ],
   "source": [
    "# Get list of the columns from the original DataFrame so we know what to add to scaled data\n",
    "df.columns"
   ]
  },
  {
   "cell_type": "code",
   "execution_count": 16,
   "id": "0b975f5b",
   "metadata": {},
   "outputs": [
    {
     "data": {
      "text/html": [
       "<div>\n",
       "<style scoped>\n",
       "    .dataframe tbody tr th:only-of-type {\n",
       "        vertical-align: middle;\n",
       "    }\n",
       "\n",
       "    .dataframe tbody tr th {\n",
       "        vertical-align: top;\n",
       "    }\n",
       "\n",
       "    .dataframe thead th {\n",
       "        text-align: right;\n",
       "    }\n",
       "</style>\n",
       "<table border=\"1\" class=\"dataframe\">\n",
       "  <thead>\n",
       "    <tr style=\"text-align: right;\">\n",
       "      <th></th>\n",
       "      <th>BMI</th>\n",
       "      <th>MentHlth</th>\n",
       "      <th>PhysHlth</th>\n",
       "      <th>Diabetes_binary</th>\n",
       "      <th>HighBP</th>\n",
       "      <th>HighChol</th>\n",
       "      <th>CholCheck</th>\n",
       "      <th>Smoker</th>\n",
       "      <th>Stroke</th>\n",
       "      <th>HeartDiseaseorAttack</th>\n",
       "      <th>...</th>\n",
       "      <th>Veggies</th>\n",
       "      <th>HvyAlcoholConsump</th>\n",
       "      <th>AnyHealthcare</th>\n",
       "      <th>NoDocbcCost</th>\n",
       "      <th>GenHlth</th>\n",
       "      <th>DiffWalk</th>\n",
       "      <th>Sex</th>\n",
       "      <th>Age</th>\n",
       "      <th>Education</th>\n",
       "      <th>Income</th>\n",
       "    </tr>\n",
       "  </thead>\n",
       "  <tbody>\n",
       "    <tr>\n",
       "      <th>0</th>\n",
       "      <td>-0.555709</td>\n",
       "      <td>0.134741</td>\n",
       "      <td>2.356585</td>\n",
       "      <td>0.0</td>\n",
       "      <td>1.0</td>\n",
       "      <td>0.0</td>\n",
       "      <td>1.0</td>\n",
       "      <td>0.0</td>\n",
       "      <td>0.0</td>\n",
       "      <td>0.0</td>\n",
       "      <td>...</td>\n",
       "      <td>1.0</td>\n",
       "      <td>0.0</td>\n",
       "      <td>1.0</td>\n",
       "      <td>0.0</td>\n",
       "      <td>3.0</td>\n",
       "      <td>0.0</td>\n",
       "      <td>1.0</td>\n",
       "      <td>4.0</td>\n",
       "      <td>6.0</td>\n",
       "      <td>8.0</td>\n",
       "    </tr>\n",
       "    <tr>\n",
       "      <th>1</th>\n",
       "      <td>-0.555709</td>\n",
       "      <td>-0.469891</td>\n",
       "      <td>-0.590973</td>\n",
       "      <td>0.0</td>\n",
       "      <td>1.0</td>\n",
       "      <td>1.0</td>\n",
       "      <td>1.0</td>\n",
       "      <td>1.0</td>\n",
       "      <td>1.0</td>\n",
       "      <td>0.0</td>\n",
       "      <td>...</td>\n",
       "      <td>0.0</td>\n",
       "      <td>0.0</td>\n",
       "      <td>1.0</td>\n",
       "      <td>0.0</td>\n",
       "      <td>3.0</td>\n",
       "      <td>0.0</td>\n",
       "      <td>1.0</td>\n",
       "      <td>12.0</td>\n",
       "      <td>6.0</td>\n",
       "      <td>8.0</td>\n",
       "    </tr>\n",
       "    <tr>\n",
       "      <th>2</th>\n",
       "      <td>-0.555709</td>\n",
       "      <td>-0.469891</td>\n",
       "      <td>0.391546</td>\n",
       "      <td>0.0</td>\n",
       "      <td>0.0</td>\n",
       "      <td>0.0</td>\n",
       "      <td>1.0</td>\n",
       "      <td>0.0</td>\n",
       "      <td>0.0</td>\n",
       "      <td>0.0</td>\n",
       "      <td>...</td>\n",
       "      <td>1.0</td>\n",
       "      <td>0.0</td>\n",
       "      <td>1.0</td>\n",
       "      <td>0.0</td>\n",
       "      <td>1.0</td>\n",
       "      <td>0.0</td>\n",
       "      <td>1.0</td>\n",
       "      <td>13.0</td>\n",
       "      <td>6.0</td>\n",
       "      <td>8.0</td>\n",
       "    </tr>\n",
       "    <tr>\n",
       "      <th>3</th>\n",
       "      <td>-0.276970</td>\n",
       "      <td>-0.469891</td>\n",
       "      <td>-0.296217</td>\n",
       "      <td>0.0</td>\n",
       "      <td>1.0</td>\n",
       "      <td>1.0</td>\n",
       "      <td>1.0</td>\n",
       "      <td>1.0</td>\n",
       "      <td>0.0</td>\n",
       "      <td>0.0</td>\n",
       "      <td>...</td>\n",
       "      <td>1.0</td>\n",
       "      <td>0.0</td>\n",
       "      <td>1.0</td>\n",
       "      <td>0.0</td>\n",
       "      <td>3.0</td>\n",
       "      <td>0.0</td>\n",
       "      <td>1.0</td>\n",
       "      <td>11.0</td>\n",
       "      <td>6.0</td>\n",
       "      <td>8.0</td>\n",
       "    </tr>\n",
       "    <tr>\n",
       "      <th>4</th>\n",
       "      <td>-0.137601</td>\n",
       "      <td>-0.469891</td>\n",
       "      <td>-0.590973</td>\n",
       "      <td>0.0</td>\n",
       "      <td>0.0</td>\n",
       "      <td>0.0</td>\n",
       "      <td>1.0</td>\n",
       "      <td>1.0</td>\n",
       "      <td>0.0</td>\n",
       "      <td>0.0</td>\n",
       "      <td>...</td>\n",
       "      <td>1.0</td>\n",
       "      <td>0.0</td>\n",
       "      <td>1.0</td>\n",
       "      <td>0.0</td>\n",
       "      <td>2.0</td>\n",
       "      <td>0.0</td>\n",
       "      <td>0.0</td>\n",
       "      <td>8.0</td>\n",
       "      <td>5.0</td>\n",
       "      <td>8.0</td>\n",
       "    </tr>\n",
       "  </tbody>\n",
       "</table>\n",
       "<p>5 rows × 22 columns</p>\n",
       "</div>"
      ],
      "text/plain": [
       "        BMI  MentHlth  PhysHlth  Diabetes_binary  HighBP  HighChol  CholCheck  \\\n",
       "0 -0.555709  0.134741  2.356585              0.0     1.0       0.0        1.0   \n",
       "1 -0.555709 -0.469891 -0.590973              0.0     1.0       1.0        1.0   \n",
       "2 -0.555709 -0.469891  0.391546              0.0     0.0       0.0        1.0   \n",
       "3 -0.276970 -0.469891 -0.296217              0.0     1.0       1.0        1.0   \n",
       "4 -0.137601 -0.469891 -0.590973              0.0     0.0       0.0        1.0   \n",
       "\n",
       "   Smoker  Stroke  HeartDiseaseorAttack  ...  Veggies  HvyAlcoholConsump  \\\n",
       "0     0.0     0.0                   0.0  ...      1.0                0.0   \n",
       "1     1.0     1.0                   0.0  ...      0.0                0.0   \n",
       "2     0.0     0.0                   0.0  ...      1.0                0.0   \n",
       "3     1.0     0.0                   0.0  ...      1.0                0.0   \n",
       "4     1.0     0.0                   0.0  ...      1.0                0.0   \n",
       "\n",
       "   AnyHealthcare  NoDocbcCost  GenHlth  DiffWalk  Sex   Age  Education  Income  \n",
       "0            1.0          0.0      3.0       0.0  1.0   4.0        6.0     8.0  \n",
       "1            1.0          0.0      3.0       0.0  1.0  12.0        6.0     8.0  \n",
       "2            1.0          0.0      1.0       0.0  1.0  13.0        6.0     8.0  \n",
       "3            1.0          0.0      3.0       0.0  1.0  11.0        6.0     8.0  \n",
       "4            1.0          0.0      2.0       0.0  0.0   8.0        5.0     8.0  \n",
       "\n",
       "[5 rows x 22 columns]"
      ]
     },
     "execution_count": 16,
     "metadata": {},
     "output_type": "execute_result"
    }
   ],
   "source": [
    "# Create a DataFrame with the transformed data\n",
    "scaled_data = pd.DataFrame(scaled_data, columns=['BMI', 'MentHlth', 'PhysHlth'])\n",
    "scaled_data['Diabetes_binary'] = df['Diabetes_binary']\n",
    "scaled_data['HighBP'] = df['HighBP']\n",
    "scaled_data['HighChol'] = df['HighChol']\n",
    "scaled_data['CholCheck'] = df['CholCheck']\n",
    "scaled_data['Smoker'] = df['Smoker']\n",
    "scaled_data['Stroke'] = df['Stroke']\n",
    "scaled_data['HeartDiseaseorAttack'] = df['HeartDiseaseorAttack']\n",
    "scaled_data['PhysActivity'] = df['PhysActivity']\n",
    "scaled_data['Fruits'] = df['Fruits']\n",
    "scaled_data['Veggies'] = df['Veggies']\n",
    "scaled_data['HvyAlcoholConsump'] = df['HvyAlcoholConsump']\n",
    "scaled_data['AnyHealthcare'] = df['AnyHealthcare']\n",
    "scaled_data['NoDocbcCost'] = df['NoDocbcCost']\n",
    "scaled_data['GenHlth'] = df['GenHlth']\n",
    "scaled_data['DiffWalk'] = df['DiffWalk']\n",
    "scaled_data['Sex'] = df['Sex']\n",
    "scaled_data['Age'] = df['Age']\n",
    "scaled_data['Education'] = df['Education']\n",
    "scaled_data['Income'] = df['Income']\n",
    "scaled_data.head()"
   ]
  },
  {
   "cell_type": "code",
   "execution_count": 17,
   "id": "33f910b4",
   "metadata": {},
   "outputs": [],
   "source": [
    "# function by Boern found in the following link \n",
    "# https://stackoverflow.com/questions/31323499/sklearn-error-valueerror-input-contains-nan-infinity-or-a-value-too-large-for\n",
    "def clean_dataset(df):\n",
    "    assert isinstance(df, pd.DataFrame), \"df needs to be a pd.DataFrame\"\n",
    "    df.dropna(inplace=True)\n",
    "    indices_to_keep = ~df.isin([np.nan, np.inf, -np.inf]).any(1)\n",
    "    return df[indices_to_keep].astype(np.float64)"
   ]
  },
  {
   "cell_type": "code",
   "execution_count": 18,
   "id": "dd956822",
   "metadata": {},
   "outputs": [],
   "source": [
    "df_cleaned = clean_dataset(scaled_data)"
   ]
  },
  {
   "cell_type": "code",
   "execution_count": 19,
   "id": "a946eb4e",
   "metadata": {},
   "outputs": [],
   "source": [
    "# Assign feature (X) and target (y) variables\n",
    "X = df_cleaned.drop('Diabetes_binary', axis=1)\n",
    "y = df_cleaned['Diabetes_binary']"
   ]
  },
  {
   "cell_type": "markdown",
   "id": "4f6210d5",
   "metadata": {},
   "source": [
    "Look at X and y to make sure everything looks as expected."
   ]
  },
  {
   "cell_type": "code",
   "execution_count": 20,
   "id": "90ed5c3b",
   "metadata": {},
   "outputs": [
    {
     "data": {
      "text/html": [
       "<div>\n",
       "<style scoped>\n",
       "    .dataframe tbody tr th:only-of-type {\n",
       "        vertical-align: middle;\n",
       "    }\n",
       "\n",
       "    .dataframe tbody tr th {\n",
       "        vertical-align: top;\n",
       "    }\n",
       "\n",
       "    .dataframe thead th {\n",
       "        text-align: right;\n",
       "    }\n",
       "</style>\n",
       "<table border=\"1\" class=\"dataframe\">\n",
       "  <thead>\n",
       "    <tr style=\"text-align: right;\">\n",
       "      <th></th>\n",
       "      <th>BMI</th>\n",
       "      <th>MentHlth</th>\n",
       "      <th>PhysHlth</th>\n",
       "      <th>HighBP</th>\n",
       "      <th>HighChol</th>\n",
       "      <th>CholCheck</th>\n",
       "      <th>Smoker</th>\n",
       "      <th>Stroke</th>\n",
       "      <th>HeartDiseaseorAttack</th>\n",
       "      <th>PhysActivity</th>\n",
       "      <th>...</th>\n",
       "      <th>Veggies</th>\n",
       "      <th>HvyAlcoholConsump</th>\n",
       "      <th>AnyHealthcare</th>\n",
       "      <th>NoDocbcCost</th>\n",
       "      <th>GenHlth</th>\n",
       "      <th>DiffWalk</th>\n",
       "      <th>Sex</th>\n",
       "      <th>Age</th>\n",
       "      <th>Education</th>\n",
       "      <th>Income</th>\n",
       "    </tr>\n",
       "  </thead>\n",
       "  <tbody>\n",
       "    <tr>\n",
       "      <th>0</th>\n",
       "      <td>-0.555709</td>\n",
       "      <td>0.134741</td>\n",
       "      <td>2.356585</td>\n",
       "      <td>1.0</td>\n",
       "      <td>0.0</td>\n",
       "      <td>1.0</td>\n",
       "      <td>0.0</td>\n",
       "      <td>0.0</td>\n",
       "      <td>0.0</td>\n",
       "      <td>1.0</td>\n",
       "      <td>...</td>\n",
       "      <td>1.0</td>\n",
       "      <td>0.0</td>\n",
       "      <td>1.0</td>\n",
       "      <td>0.0</td>\n",
       "      <td>3.0</td>\n",
       "      <td>0.0</td>\n",
       "      <td>1.0</td>\n",
       "      <td>4.0</td>\n",
       "      <td>6.0</td>\n",
       "      <td>8.0</td>\n",
       "    </tr>\n",
       "    <tr>\n",
       "      <th>1</th>\n",
       "      <td>-0.555709</td>\n",
       "      <td>-0.469891</td>\n",
       "      <td>-0.590973</td>\n",
       "      <td>1.0</td>\n",
       "      <td>1.0</td>\n",
       "      <td>1.0</td>\n",
       "      <td>1.0</td>\n",
       "      <td>1.0</td>\n",
       "      <td>0.0</td>\n",
       "      <td>0.0</td>\n",
       "      <td>...</td>\n",
       "      <td>0.0</td>\n",
       "      <td>0.0</td>\n",
       "      <td>1.0</td>\n",
       "      <td>0.0</td>\n",
       "      <td>3.0</td>\n",
       "      <td>0.0</td>\n",
       "      <td>1.0</td>\n",
       "      <td>12.0</td>\n",
       "      <td>6.0</td>\n",
       "      <td>8.0</td>\n",
       "    </tr>\n",
       "    <tr>\n",
       "      <th>2</th>\n",
       "      <td>-0.555709</td>\n",
       "      <td>-0.469891</td>\n",
       "      <td>0.391546</td>\n",
       "      <td>0.0</td>\n",
       "      <td>0.0</td>\n",
       "      <td>1.0</td>\n",
       "      <td>0.0</td>\n",
       "      <td>0.0</td>\n",
       "      <td>0.0</td>\n",
       "      <td>1.0</td>\n",
       "      <td>...</td>\n",
       "      <td>1.0</td>\n",
       "      <td>0.0</td>\n",
       "      <td>1.0</td>\n",
       "      <td>0.0</td>\n",
       "      <td>1.0</td>\n",
       "      <td>0.0</td>\n",
       "      <td>1.0</td>\n",
       "      <td>13.0</td>\n",
       "      <td>6.0</td>\n",
       "      <td>8.0</td>\n",
       "    </tr>\n",
       "    <tr>\n",
       "      <th>3</th>\n",
       "      <td>-0.276970</td>\n",
       "      <td>-0.469891</td>\n",
       "      <td>-0.296217</td>\n",
       "      <td>1.0</td>\n",
       "      <td>1.0</td>\n",
       "      <td>1.0</td>\n",
       "      <td>1.0</td>\n",
       "      <td>0.0</td>\n",
       "      <td>0.0</td>\n",
       "      <td>1.0</td>\n",
       "      <td>...</td>\n",
       "      <td>1.0</td>\n",
       "      <td>0.0</td>\n",
       "      <td>1.0</td>\n",
       "      <td>0.0</td>\n",
       "      <td>3.0</td>\n",
       "      <td>0.0</td>\n",
       "      <td>1.0</td>\n",
       "      <td>11.0</td>\n",
       "      <td>6.0</td>\n",
       "      <td>8.0</td>\n",
       "    </tr>\n",
       "    <tr>\n",
       "      <th>4</th>\n",
       "      <td>-0.137601</td>\n",
       "      <td>-0.469891</td>\n",
       "      <td>-0.590973</td>\n",
       "      <td>0.0</td>\n",
       "      <td>0.0</td>\n",
       "      <td>1.0</td>\n",
       "      <td>1.0</td>\n",
       "      <td>0.0</td>\n",
       "      <td>0.0</td>\n",
       "      <td>1.0</td>\n",
       "      <td>...</td>\n",
       "      <td>1.0</td>\n",
       "      <td>0.0</td>\n",
       "      <td>1.0</td>\n",
       "      <td>0.0</td>\n",
       "      <td>2.0</td>\n",
       "      <td>0.0</td>\n",
       "      <td>0.0</td>\n",
       "      <td>8.0</td>\n",
       "      <td>5.0</td>\n",
       "      <td>8.0</td>\n",
       "    </tr>\n",
       "  </tbody>\n",
       "</table>\n",
       "<p>5 rows × 21 columns</p>\n",
       "</div>"
      ],
      "text/plain": [
       "        BMI  MentHlth  PhysHlth  HighBP  HighChol  CholCheck  Smoker  Stroke  \\\n",
       "0 -0.555709  0.134741  2.356585     1.0       0.0        1.0     0.0     0.0   \n",
       "1 -0.555709 -0.469891 -0.590973     1.0       1.0        1.0     1.0     1.0   \n",
       "2 -0.555709 -0.469891  0.391546     0.0       0.0        1.0     0.0     0.0   \n",
       "3 -0.276970 -0.469891 -0.296217     1.0       1.0        1.0     1.0     0.0   \n",
       "4 -0.137601 -0.469891 -0.590973     0.0       0.0        1.0     1.0     0.0   \n",
       "\n",
       "   HeartDiseaseorAttack  PhysActivity  ...  Veggies  HvyAlcoholConsump  \\\n",
       "0                   0.0           1.0  ...      1.0                0.0   \n",
       "1                   0.0           0.0  ...      0.0                0.0   \n",
       "2                   0.0           1.0  ...      1.0                0.0   \n",
       "3                   0.0           1.0  ...      1.0                0.0   \n",
       "4                   0.0           1.0  ...      1.0                0.0   \n",
       "\n",
       "   AnyHealthcare  NoDocbcCost  GenHlth  DiffWalk  Sex   Age  Education  Income  \n",
       "0            1.0          0.0      3.0       0.0  1.0   4.0        6.0     8.0  \n",
       "1            1.0          0.0      3.0       0.0  1.0  12.0        6.0     8.0  \n",
       "2            1.0          0.0      1.0       0.0  1.0  13.0        6.0     8.0  \n",
       "3            1.0          0.0      3.0       0.0  1.0  11.0        6.0     8.0  \n",
       "4            1.0          0.0      2.0       0.0  0.0   8.0        5.0     8.0  \n",
       "\n",
       "[5 rows x 21 columns]"
      ]
     },
     "execution_count": 20,
     "metadata": {},
     "output_type": "execute_result"
    }
   ],
   "source": [
    "# Preview X\n",
    "X.head()"
   ]
  },
  {
   "cell_type": "code",
   "execution_count": 21,
   "id": "95d5495a",
   "metadata": {},
   "outputs": [
    {
     "data": {
      "text/plain": [
       "0    0.0\n",
       "1    0.0\n",
       "2    0.0\n",
       "3    0.0\n",
       "4    0.0\n",
       "Name: Diabetes_binary, dtype: float64"
      ]
     },
     "execution_count": 21,
     "metadata": {},
     "output_type": "execute_result"
    }
   ],
   "source": [
    "# Prevew y\n",
    "y.head()"
   ]
  },
  {
   "cell_type": "code",
   "execution_count": 22,
   "id": "cf6725ea",
   "metadata": {},
   "outputs": [],
   "source": [
    "# Split the data into X_train, X_test, y_train, y_test\n",
    "X_train, X_test, y_train, y_test = train_test_split(X, y, random_state=42)"
   ]
  },
  {
   "cell_type": "code",
   "execution_count": 23,
   "id": "de4c4a8e",
   "metadata": {},
   "outputs": [],
   "source": [
    "def model_tester(model, X, y):\n",
    "    X_train, X_test, y_train, y_test = train_test_split(X, y, random_state=42)\n",
    "    clf = model.fit(X_train, y_train)\n",
    "    y_pred = clf.predict(X_test)\n",
    "    print(classification_report(y_test, y_pred))\n",
    "    print(f'Training Score: {clf.score(X_train, y_train)}')\n",
    "    print(f'Testing Score: {clf.score(X_test, y_test)}')"
   ]
  },
  {
   "cell_type": "code",
   "execution_count": 24,
   "id": "d98e71a4",
   "metadata": {},
   "outputs": [
    {
     "name": "stderr",
     "output_type": "stream",
     "text": [
      "/Users/jasonnoble/opt/anaconda3/envs/PythonData/lib/python3.7/site-packages/sklearn/linear_model/_logistic.py:818: ConvergenceWarning: lbfgs failed to converge (status=1):\n",
      "STOP: TOTAL NO. of ITERATIONS REACHED LIMIT.\n",
      "\n",
      "Increase the number of iterations (max_iter) or scale the data as shown in:\n",
      "    https://scikit-learn.org/stable/modules/preprocessing.html\n",
      "Please also refer to the documentation for alternative solver options:\n",
      "    https://scikit-learn.org/stable/modules/linear_model.html#logistic-regression\n",
      "  extra_warning_msg=_LOGISTIC_SOLVER_CONVERGENCE_MSG,\n"
     ]
    },
    {
     "name": "stdout",
     "output_type": "stream",
     "text": [
      "              precision    recall  f1-score   support\n",
      "\n",
      "         0.0       0.77      0.76      0.76      8355\n",
      "         1.0       0.76      0.76      0.76      8104\n",
      "\n",
      "    accuracy                           0.76     16459\n",
      "   macro avg       0.76      0.76      0.76     16459\n",
      "weighted avg       0.76      0.76      0.76     16459\n",
      "\n",
      "Training Score: 0.7601263771872975\n",
      "Testing Score: 0.7616501610061365\n",
      "              precision    recall  f1-score   support\n",
      "\n",
      "         0.0       0.77      0.76      0.76      8355\n",
      "         1.0       0.76      0.76      0.76      8104\n",
      "\n",
      "    accuracy                           0.76     16459\n",
      "   macro avg       0.76      0.76      0.76     16459\n",
      "weighted avg       0.76      0.76      0.76     16459\n",
      "\n",
      "Training Score: 0.760146629941672\n",
      "Testing Score: 0.7621969742997752\n",
      "              precision    recall  f1-score   support\n",
      "\n",
      "         0.0       0.77      0.76      0.76      8355\n",
      "         1.0       0.76      0.76      0.76      8104\n",
      "\n",
      "    accuracy                           0.76     16459\n",
      "   macro avg       0.76      0.76      0.76     16459\n",
      "weighted avg       0.76      0.76      0.76     16459\n",
      "\n",
      "Training Score: 0.760146629941672\n",
      "Testing Score: 0.7621969742997752\n",
      "              precision    recall  f1-score   support\n",
      "\n",
      "         0.0       0.77      0.76      0.76      8355\n",
      "         1.0       0.76      0.76      0.76      8104\n",
      "\n",
      "    accuracy                           0.76     16459\n",
      "   macro avg       0.76      0.76      0.76     16459\n",
      "weighted avg       0.76      0.76      0.76     16459\n",
      "\n",
      "Training Score: 0.760146629941672\n",
      "Testing Score: 0.7621969742997752\n"
     ]
    }
   ],
   "source": [
    "# Look at different Logistic Regression models and find bester performing for further tuning\n",
    "model_tester(LogisticRegression(random_state=42), X, y)\n",
    "model_tester(LogisticRegression(random_state=42, max_iter=500), X, y)\n",
    "model_tester(LogisticRegression(random_state=42, max_iter=1000), X, y)\n",
    "model_tester(LogisticRegression(random_state=42, max_iter=10000), X, y)"
   ]
  },
  {
   "cell_type": "markdown",
   "id": "4f22bc72",
   "metadata": {},
   "source": [
    "The second model with max_iter=500 is the model selected as the 'best' LogisticRegression model. The accuracy scores leveled off for 1000 and 10000 suggesting there were diminishing returns for the additional iterations."
   ]
  },
  {
   "cell_type": "code",
   "execution_count": 25,
   "id": "3b28cf7f",
   "metadata": {},
   "outputs": [
    {
     "name": "stdout",
     "output_type": "stream",
     "text": [
      "              precision    recall  f1-score   support\n",
      "\n",
      "         0.0       0.77      0.74      0.76      8355\n",
      "         1.0       0.74      0.78      0.76      8104\n",
      "\n",
      "    accuracy                           0.76     16459\n",
      "   macro avg       0.76      0.76      0.76     16459\n",
      "weighted avg       0.76      0.76      0.76     16459\n",
      "\n",
      "Training Score: 0.9983595268956578\n",
      "Testing Score: 0.7585515523421836\n",
      "              precision    recall  f1-score   support\n",
      "\n",
      "         0.0       0.76      0.74      0.75      8355\n",
      "         1.0       0.74      0.76      0.75      8104\n",
      "\n",
      "    accuracy                           0.75     16459\n",
      "   macro avg       0.75      0.75      0.75     16459\n",
      "weighted avg       0.75      0.75      0.75     16459\n",
      "\n",
      "Training Score: 0.998400032404407\n",
      "Testing Score: 0.7505316240354821\n",
      "              precision    recall  f1-score   support\n",
      "\n",
      "         0.0       0.77      0.74      0.76      8355\n",
      "         1.0       0.75      0.78      0.76      8104\n",
      "\n",
      "    accuracy                           0.76     16459\n",
      "   macro avg       0.76      0.76      0.76     16459\n",
      "weighted avg       0.76      0.76      0.76     16459\n",
      "\n",
      "Training Score: 0.998400032404407\n",
      "Testing Score: 0.7601919922230999\n",
      "              precision    recall  f1-score   support\n",
      "\n",
      "         0.0       0.76      0.73      0.75      8355\n",
      "         1.0       0.74      0.77      0.75      8104\n",
      "\n",
      "    accuracy                           0.75     16459\n",
      "   macro avg       0.75      0.75      0.75     16459\n",
      "weighted avg       0.75      0.75      0.75     16459\n",
      "\n",
      "Training Score: 0.998400032404407\n",
      "Testing Score: 0.7506531381007352\n",
      "              precision    recall  f1-score   support\n",
      "\n",
      "         0.0       0.78      0.74      0.76      8355\n",
      "         1.0       0.75      0.78      0.76      8104\n",
      "\n",
      "    accuracy                           0.76     16459\n",
      "   macro avg       0.76      0.76      0.76     16459\n",
      "weighted avg       0.76      0.76      0.76     16459\n",
      "\n",
      "Training Score: 0.998400032404407\n",
      "Testing Score: 0.7601919922230999\n",
      "              precision    recall  f1-score   support\n",
      "\n",
      "         0.0       0.77      0.74      0.75      8355\n",
      "         1.0       0.74      0.77      0.75      8104\n",
      "\n",
      "    accuracy                           0.75     16459\n",
      "   macro avg       0.75      0.75      0.75     16459\n",
      "weighted avg       0.75      0.75      0.75     16459\n",
      "\n",
      "Training Score: 0.998400032404407\n",
      "Testing Score: 0.7520505498511453\n"
     ]
    }
   ],
   "source": [
    "# Look at different RandomForest models and find bester performing for further tuning\n",
    "model_tester(RandomForestClassifier(random_state=42), X, y)\n",
    "model_tester(RandomForestClassifier(random_state=42, bootstrap=False), X, y)\n",
    "model_tester(RandomForestClassifier(random_state=42, n_estimators=200), X, y)\n",
    "model_tester(RandomForestClassifier(random_state=42, n_estimators=200, bootstrap=False), X, y)\n",
    "model_tester(RandomForestClassifier(random_state=42, n_estimators=500), X, y)\n",
    "model_tester(RandomForestClassifier(random_state=42, n_estimators=500, bootstrap=False), X, y)"
   ]
  },
  {
   "cell_type": "markdown",
   "id": "71489750",
   "metadata": {},
   "source": [
    "The third model with n_estimators=200 and the default bootstrap setting is selected as the 'best' Random Forest model. This is due to it having the highest testing accuracy score."
   ]
  },
  {
   "cell_type": "code",
   "execution_count": 26,
   "id": "5a7f7ad0",
   "metadata": {},
   "outputs": [
    {
     "name": "stdout",
     "output_type": "stream",
     "text": [
      "              precision    recall  f1-score   support\n",
      "\n",
      "         0.0       0.77      0.76      0.77      8355\n",
      "         1.0       0.76      0.77      0.76      8104\n",
      "\n",
      "    accuracy                           0.77     16459\n",
      "   macro avg       0.77      0.77      0.77     16459\n",
      "weighted avg       0.77      0.77      0.77     16459\n",
      "\n",
      "Training Score: 0.7665870058327933\n",
      "Testing Score: 0.7666322376815117\n",
      "              precision    recall  f1-score   support\n",
      "\n",
      "         0.0       0.78      0.76      0.77      8355\n",
      "         1.0       0.76      0.77      0.77      8104\n",
      "\n",
      "    accuracy                           0.77     16459\n",
      "   macro avg       0.77      0.77      0.77     16459\n",
      "weighted avg       0.77      0.77      0.77     16459\n",
      "\n",
      "Training Score: 0.7666882696046662\n",
      "Testing Score: 0.767604350203536\n",
      "              precision    recall  f1-score   support\n",
      "\n",
      "         0.0       0.77      0.76      0.77      8355\n",
      "         1.0       0.76      0.77      0.76      8104\n",
      "\n",
      "    accuracy                           0.77     16459\n",
      "   macro avg       0.77      0.77      0.77     16459\n",
      "weighted avg       0.77      0.77      0.77     16459\n",
      "\n",
      "Training Score: 0.7657768956578095\n",
      "Testing Score: 0.7651133118658485\n",
      "              precision    recall  f1-score   support\n",
      "\n",
      "         0.0       0.78      0.76      0.77      8355\n",
      "         1.0       0.76      0.77      0.77      8104\n",
      "\n",
      "    accuracy                           0.77     16459\n",
      "   macro avg       0.77      0.77      0.77     16459\n",
      "weighted avg       0.77      0.77      0.77     16459\n",
      "\n",
      "Training Score: 0.7667287751134154\n",
      "Testing Score: 0.7672398080077769\n",
      "              precision    recall  f1-score   support\n",
      "\n",
      "         0.0       0.77      0.76      0.77      8355\n",
      "         1.0       0.76      0.77      0.77      8104\n",
      "\n",
      "    accuracy                           0.77     16459\n",
      "   macro avg       0.77      0.77      0.77     16459\n",
      "weighted avg       0.77      0.77      0.77     16459\n",
      "\n",
      "Training Score: 0.7664654893065457\n",
      "Testing Score: 0.7674220791056565\n"
     ]
    }
   ],
   "source": [
    "# Look at different AdaBoost models and find bester performing for further tuning\n",
    "model_tester(AdaBoostClassifier(random_state=42, n_estimators=100), X, y)\n",
    "model_tester(AdaBoostClassifier(random_state=42, n_estimators=200), X, y)\n",
    "model_tester(AdaBoostClassifier(random_state=42, n_estimators=200, learning_rate=0.1), X, y)\n",
    "model_tester(AdaBoostClassifier(random_state=42, n_estimators=500, learning_rate=0.1), X, y)\n",
    "model_tester(AdaBoostClassifier(random_state=42, n_estimators=1000, learning_rate=0.1), X, y)"
   ]
  },
  {
   "cell_type": "markdown",
   "id": "e1b54054",
   "metadata": {},
   "source": [
    "The models with n_estimators=200 are performing the best. Next, we will try to further tune by changing the learning_rate and keeping the n_estimators the same."
   ]
  },
  {
   "cell_type": "code",
   "execution_count": 27,
   "id": "5a785158",
   "metadata": {},
   "outputs": [
    {
     "name": "stdout",
     "output_type": "stream",
     "text": [
      "              precision    recall  f1-score   support\n",
      "\n",
      "         0.0       0.78      0.76      0.77      8355\n",
      "         1.0       0.76      0.77      0.77      8104\n",
      "\n",
      "    accuracy                           0.77     16459\n",
      "   macro avg       0.77      0.77      0.77     16459\n",
      "weighted avg       0.77      0.77      0.77     16459\n",
      "\n",
      "Training Score: 0.7666882696046662\n",
      "Testing Score: 0.767604350203536\n",
      "              precision    recall  f1-score   support\n",
      "\n",
      "         0.0       0.77      0.76      0.77      8355\n",
      "         1.0       0.76      0.77      0.76      8104\n",
      "\n",
      "    accuracy                           0.77     16459\n",
      "   macro avg       0.77      0.77      0.77     16459\n",
      "weighted avg       0.77      0.77      0.77     16459\n",
      "\n",
      "Training Score: 0.7657768956578095\n",
      "Testing Score: 0.7651133118658485\n",
      "              precision    recall  f1-score   support\n",
      "\n",
      "         0.0       0.77      0.76      0.76      8355\n",
      "         1.0       0.76      0.77      0.76      8104\n",
      "\n",
      "    accuracy                           0.76     16459\n",
      "   macro avg       0.76      0.76      0.76     16459\n",
      "weighted avg       0.76      0.76      0.76     16459\n",
      "\n",
      "Training Score: 0.7601263771872975\n",
      "Testing Score: 0.7631083297891731\n",
      "              precision    recall  f1-score   support\n",
      "\n",
      "         0.0       0.73      0.74      0.74      8355\n",
      "         1.0       0.73      0.71      0.72      8104\n",
      "\n",
      "    accuracy                           0.73     16459\n",
      "   macro avg       0.73      0.73      0.73     16459\n",
      "weighted avg       0.73      0.73      0.73     16459\n",
      "\n",
      "Training Score: 0.7281877835385613\n",
      "Testing Score: 0.728598335257306\n"
     ]
    }
   ],
   "source": [
    "# further tune based on results of previous cell\n",
    "model_tester(AdaBoostClassifier(random_state=42, n_estimators=200), X, y)\n",
    "model_tester(AdaBoostClassifier(random_state=42, n_estimators=200, learning_rate=0.1), X, y)\n",
    "model_tester(AdaBoostClassifier(random_state=42, n_estimators=200, learning_rate=0.05), X, y)\n",
    "model_tester(AdaBoostClassifier(random_state=42, n_estimators=200, learning_rate=0.01), X, y)"
   ]
  },
  {
   "cell_type": "markdown",
   "id": "bd76b34e",
   "metadata": {},
   "source": [
    "The model with n_estimaors=200 and default learning_rate=1 is selected as the 'best' Ada Boost model. This is due to it having the highest testing accuracy score."
   ]
  },
  {
   "cell_type": "code",
   "execution_count": 28,
   "id": "b3eb755a",
   "metadata": {},
   "outputs": [
    {
     "name": "stdout",
     "output_type": "stream",
     "text": [
      "              precision    recall  f1-score   support\n",
      "\n",
      "         0.0       0.77      0.76      0.76      8355\n",
      "         1.0       0.76      0.76      0.76      8104\n",
      "\n",
      "    accuracy                           0.76     16459\n",
      "   macro avg       0.76      0.76      0.76     16459\n",
      "weighted avg       0.76      0.76      0.76     16459\n",
      "\n",
      "Training Score: 0.760146629941672\n",
      "Testing Score: 0.7621969742997752\n",
      "              precision    recall  f1-score   support\n",
      "\n",
      "         0.0       0.77      0.74      0.76      8355\n",
      "         1.0       0.75      0.78      0.76      8104\n",
      "\n",
      "    accuracy                           0.76     16459\n",
      "   macro avg       0.76      0.76      0.76     16459\n",
      "weighted avg       0.76      0.76      0.76     16459\n",
      "\n",
      "Training Score: 0.998400032404407\n",
      "Testing Score: 0.7601919922230999\n",
      "              precision    recall  f1-score   support\n",
      "\n",
      "         0.0       0.78      0.76      0.77      8355\n",
      "         1.0       0.76      0.77      0.77      8104\n",
      "\n",
      "    accuracy                           0.77     16459\n",
      "   macro avg       0.77      0.77      0.77     16459\n",
      "weighted avg       0.77      0.77      0.77     16459\n",
      "\n",
      "Training Score: 0.7666882696046662\n",
      "Testing Score: 0.767604350203536\n"
     ]
    }
   ],
   "source": [
    "# The best of each type of model\n",
    "model_tester(LogisticRegression(random_state=42, max_iter=500), X, y)\n",
    "model_tester(RandomForestClassifier(random_state=42, n_estimators=200), X, y)\n",
    "model_tester(AdaBoostClassifier(random_state=42, n_estimators=200), X, y)"
   ]
  },
  {
   "cell_type": "markdown",
   "id": "6633cbe8",
   "metadata": {},
   "source": [
    "The best performing model of all models tested with scaled data is the Ada Boost Classifier. With a testing accuracy score of 0.76760 it edged out the Logistic Regression (0.76220) and the Random Forest Classifier (0.76020). It also had tied for the best recall with 0.76.\n",
    "\n",
    "The models with scaled data performed better on the 50/50 split data set than the models with unscaled data."
   ]
  },
  {
   "cell_type": "code",
   "execution_count": 31,
   "id": "8a967128",
   "metadata": {},
   "outputs": [],
   "source": [
    "# Will an xgboost perform better?\n",
    "from xgboost import XGBClassifier"
   ]
  },
  {
   "cell_type": "code",
   "execution_count": 34,
   "id": "052b228f",
   "metadata": {},
   "outputs": [
    {
     "name": "stdout",
     "output_type": "stream",
     "text": [
      "              precision    recall  f1-score   support\n",
      "\n",
      "         0.0       0.78      0.75      0.77      8355\n",
      "         1.0       0.75      0.78      0.77      8104\n",
      "\n",
      "    accuracy                           0.77     16459\n",
      "   macro avg       0.77      0.77      0.77     16459\n",
      "weighted avg       0.77      0.77      0.77     16459\n",
      "\n",
      "Training Score: 0.8078418664938432\n",
      "Testing Score: 0.7665714806488851\n",
      "              precision    recall  f1-score   support\n",
      "\n",
      "         0.0       0.78      0.75      0.77      8355\n",
      "         1.0       0.75      0.79      0.77      8104\n",
      "\n",
      "    accuracy                           0.77     16459\n",
      "   macro avg       0.77      0.77      0.77     16459\n",
      "weighted avg       0.77      0.77      0.77     16459\n",
      "\n",
      "Training Score: 0.7982015554115359\n",
      "Testing Score: 0.7681511634971748\n",
      "              precision    recall  f1-score   support\n",
      "\n",
      "         0.0       0.79      0.75      0.77      8355\n",
      "         1.0       0.76      0.79      0.77      8104\n",
      "\n",
      "    accuracy                           0.77     16459\n",
      "   macro avg       0.77      0.77      0.77     16459\n",
      "weighted avg       0.77      0.77      0.77     16459\n",
      "\n",
      "Training Score: 0.7870827932598834\n",
      "Testing Score: 0.7702776596391032\n",
      "              precision    recall  f1-score   support\n",
      "\n",
      "         0.0       0.77      0.75      0.76      8355\n",
      "         1.0       0.75      0.78      0.76      8104\n",
      "\n",
      "    accuracy                           0.76     16459\n",
      "   macro avg       0.76      0.76      0.76     16459\n",
      "weighted avg       0.76      0.76      0.76     16459\n",
      "\n",
      "Training Score: 0.7649060272197019\n",
      "Testing Score: 0.7607388055167386\n"
     ]
    }
   ],
   "source": [
    "# Test different XGBClassifier models\n",
    "model_tester(XGBClassifier(seed=42), X, y)\n",
    "model_tester(XGBClassifier(seed=42, eta=0.2), X, y)\n",
    "model_tester(XGBClassifier(seed=42, eta=0.1), X, y)\n",
    "model_tester(XGBClassifier(seed=42, eta=0.01), X, y)"
   ]
  },
  {
   "cell_type": "code",
   "execution_count": 40,
   "id": "db38ca9d",
   "metadata": {},
   "outputs": [],
   "source": [
    "# find best hyperparameters using HYPEROPT\n",
    "from hyperopt import STATUS_OK, Trials, fmin, hp, tpe\n",
    "from sklearn.metrics import accuracy_score\n",
    "\n",
    "# initialize domain space for range of values\n",
    "# using values from https://www.kaggle.com/code/prashant111/a-guide-on-xgboost-hyperparameters-tuning/notebook\n",
    "space={'max_depth': hp.quniform(\"max_depth\", 3, 18, 1),\n",
    "        'gamma': hp.uniform ('gamma', 1,9),\n",
    "        'reg_alpha' : hp.quniform('reg_alpha', 40,180,1),\n",
    "        'reg_lambda' : hp.uniform('reg_lambda', 0,1),\n",
    "        'colsample_bytree' : hp.uniform('colsample_bytree', 0.5,1),\n",
    "        'min_child_weight' : hp.quniform('min_child_weight', 0, 10, 1),\n",
    "        'n_estimators': 180,\n",
    "        'seed': 42\n",
    "    }"
   ]
  },
  {
   "cell_type": "code",
   "execution_count": 41,
   "id": "a2701c47",
   "metadata": {},
   "outputs": [],
   "source": [
    "# define objective function\n",
    "# using function from https://www.kaggle.com/code/prashant111/a-guide-on-xgboost-hyperparameters-tuning/notebook\n",
    "def objective(space):\n",
    "    clf=XGBClassifier(\n",
    "                    n_estimators =space['n_estimators'], max_depth = int(space['max_depth']), gamma = space['gamma'],\n",
    "                    reg_alpha = int(space['reg_alpha']),min_child_weight=int(space['min_child_weight']),\n",
    "                    colsample_bytree=int(space['colsample_bytree']))\n",
    "    \n",
    "    evaluation = [( X_train, y_train), ( X_test, y_test)]\n",
    "    \n",
    "    clf.fit(X_train, y_train,\n",
    "            eval_set=evaluation, eval_metric=\"auc\",\n",
    "            early_stopping_rounds=10,verbose=False)\n",
    "    \n",
    "\n",
    "    pred = clf.predict(X_test)\n",
    "    accuracy = accuracy_score(y_test, pred>0.5)\n",
    "    print (\"SCORE:\", accuracy)\n",
    "    return {'loss': -accuracy, 'status': STATUS_OK }"
   ]
  },
  {
   "cell_type": "code",
   "execution_count": 42,
   "id": "d3b84f83",
   "metadata": {},
   "outputs": [
    {
     "name": "stdout",
     "output_type": "stream",
     "text": [
      "SCORE:                                                                          \n",
      "0.7581262531137979                                                              \n",
      "  1%|        | 1/100 [00:01<02:50,  1.72s/trial, best loss: -0.7581262531137979]"
     ]
    },
    {
     "name": "stderr",
     "output_type": "stream",
     "text": [
      "/Users/jasonnoble/opt/anaconda3/envs/PythonData/lib/python3.7/site-packages/xgboost/sklearn.py:797: UserWarning: `eval_metric` in `fit` method is deprecated for better compatibility with scikit-learn, use `eval_metric` in constructor or`set_params` instead.\n",
      "  UserWarning,\n",
      "\n",
      "/Users/jasonnoble/opt/anaconda3/envs/PythonData/lib/python3.7/site-packages/xgboost/sklearn.py:797: UserWarning: `early_stopping_rounds` in `fit` method is deprecated for better compatibility with scikit-learn, use `early_stopping_rounds` in constructor or`set_params` instead.\n",
      "  UserWarning,\n",
      "\n"
     ]
    },
    {
     "name": "stdout",
     "output_type": "stream",
     "text": [
      "SCORE:                                                                          \n",
      "0.7595844218968345                                                              \n",
      "  2%|▏       | 2/100 [00:03<03:01,  1.85s/trial, best loss: -0.7595844218968345]"
     ]
    },
    {
     "name": "stderr",
     "output_type": "stream",
     "text": [
      "/Users/jasonnoble/opt/anaconda3/envs/PythonData/lib/python3.7/site-packages/xgboost/sklearn.py:797: UserWarning: `eval_metric` in `fit` method is deprecated for better compatibility with scikit-learn, use `eval_metric` in constructor or`set_params` instead.\n",
      "  UserWarning,\n",
      "\n",
      "/Users/jasonnoble/opt/anaconda3/envs/PythonData/lib/python3.7/site-packages/xgboost/sklearn.py:797: UserWarning: `early_stopping_rounds` in `fit` method is deprecated for better compatibility with scikit-learn, use `early_stopping_rounds` in constructor or`set_params` instead.\n",
      "  UserWarning,\n",
      "\n"
     ]
    },
    {
     "name": "stdout",
     "output_type": "stream",
     "text": [
      "SCORE:                                                                          \n",
      "0.7583085242116775                                                              \n",
      "  3%|▏       | 3/100 [00:05<02:41,  1.67s/trial, best loss: -0.7595844218968345]"
     ]
    },
    {
     "name": "stderr",
     "output_type": "stream",
     "text": [
      "/Users/jasonnoble/opt/anaconda3/envs/PythonData/lib/python3.7/site-packages/xgboost/sklearn.py:797: UserWarning: `eval_metric` in `fit` method is deprecated for better compatibility with scikit-learn, use `eval_metric` in constructor or`set_params` instead.\n",
      "  UserWarning,\n",
      "\n",
      "/Users/jasonnoble/opt/anaconda3/envs/PythonData/lib/python3.7/site-packages/xgboost/sklearn.py:797: UserWarning: `early_stopping_rounds` in `fit` method is deprecated for better compatibility with scikit-learn, use `early_stopping_rounds` in constructor or`set_params` instead.\n",
      "  UserWarning,\n",
      "\n"
     ]
    },
    {
     "name": "stdout",
     "output_type": "stream",
     "text": [
      "SCORE:                                                                          \n",
      "0.7559997569718695                                                              \n",
      "  4%|▎       | 4/100 [00:06<02:34,  1.61s/trial, best loss: -0.7595844218968345]"
     ]
    },
    {
     "name": "stderr",
     "output_type": "stream",
     "text": [
      "/Users/jasonnoble/opt/anaconda3/envs/PythonData/lib/python3.7/site-packages/xgboost/sklearn.py:797: UserWarning: `eval_metric` in `fit` method is deprecated for better compatibility with scikit-learn, use `eval_metric` in constructor or`set_params` instead.\n",
      "  UserWarning,\n",
      "\n",
      "/Users/jasonnoble/opt/anaconda3/envs/PythonData/lib/python3.7/site-packages/xgboost/sklearn.py:797: UserWarning: `early_stopping_rounds` in `fit` method is deprecated for better compatibility with scikit-learn, use `early_stopping_rounds` in constructor or`set_params` instead.\n",
      "  UserWarning,\n",
      "\n"
     ]
    },
    {
     "name": "stdout",
     "output_type": "stream",
     "text": [
      "SCORE:                                                                          \n",
      "0.7589160945379427                                                              \n",
      "  5%|▍       | 5/100 [00:09<03:00,  1.90s/trial, best loss: -0.7595844218968345]"
     ]
    },
    {
     "name": "stderr",
     "output_type": "stream",
     "text": [
      "/Users/jasonnoble/opt/anaconda3/envs/PythonData/lib/python3.7/site-packages/xgboost/sklearn.py:797: UserWarning: `eval_metric` in `fit` method is deprecated for better compatibility with scikit-learn, use `eval_metric` in constructor or`set_params` instead.\n",
      "  UserWarning,\n",
      "\n",
      "/Users/jasonnoble/opt/anaconda3/envs/PythonData/lib/python3.7/site-packages/xgboost/sklearn.py:797: UserWarning: `early_stopping_rounds` in `fit` method is deprecated for better compatibility with scikit-learn, use `early_stopping_rounds` in constructor or`set_params` instead.\n",
      "  UserWarning,\n",
      "\n"
     ]
    },
    {
     "name": "stdout",
     "output_type": "stream",
     "text": [
      "SCORE:                                                                          \n",
      "0.7581262531137979                                                              \n",
      "  6%|▍       | 6/100 [00:11<03:01,  1.93s/trial, best loss: -0.7595844218968345]"
     ]
    },
    {
     "name": "stderr",
     "output_type": "stream",
     "text": [
      "/Users/jasonnoble/opt/anaconda3/envs/PythonData/lib/python3.7/site-packages/xgboost/sklearn.py:797: UserWarning: `eval_metric` in `fit` method is deprecated for better compatibility with scikit-learn, use `eval_metric` in constructor or`set_params` instead.\n",
      "  UserWarning,\n",
      "\n",
      "/Users/jasonnoble/opt/anaconda3/envs/PythonData/lib/python3.7/site-packages/xgboost/sklearn.py:797: UserWarning: `early_stopping_rounds` in `fit` method is deprecated for better compatibility with scikit-learn, use `early_stopping_rounds` in constructor or`set_params` instead.\n",
      "  UserWarning,\n",
      "\n"
     ]
    },
    {
     "name": "stdout",
     "output_type": "stream",
     "text": [
      "SCORE:                                                                          \n",
      "0.7594629078315815                                                              \n",
      "  7%|▌       | 7/100 [00:13<03:04,  1.98s/trial, best loss: -0.7595844218968345]"
     ]
    },
    {
     "name": "stderr",
     "output_type": "stream",
     "text": [
      "/Users/jasonnoble/opt/anaconda3/envs/PythonData/lib/python3.7/site-packages/xgboost/sklearn.py:797: UserWarning: `eval_metric` in `fit` method is deprecated for better compatibility with scikit-learn, use `eval_metric` in constructor or`set_params` instead.\n",
      "  UserWarning,\n",
      "\n",
      "/Users/jasonnoble/opt/anaconda3/envs/PythonData/lib/python3.7/site-packages/xgboost/sklearn.py:797: UserWarning: `early_stopping_rounds` in `fit` method is deprecated for better compatibility with scikit-learn, use `early_stopping_rounds` in constructor or`set_params` instead.\n",
      "  UserWarning,\n",
      "\n"
     ]
    },
    {
     "name": "stdout",
     "output_type": "stream",
     "text": [
      "SCORE:                                                                          \n",
      "0.7580654960811714                                                              \n",
      "  8%|▋       | 8/100 [00:14<02:54,  1.90s/trial, best loss: -0.7595844218968345]"
     ]
    },
    {
     "name": "stderr",
     "output_type": "stream",
     "text": [
      "/Users/jasonnoble/opt/anaconda3/envs/PythonData/lib/python3.7/site-packages/xgboost/sklearn.py:797: UserWarning: `eval_metric` in `fit` method is deprecated for better compatibility with scikit-learn, use `eval_metric` in constructor or`set_params` instead.\n",
      "  UserWarning,\n",
      "\n",
      "/Users/jasonnoble/opt/anaconda3/envs/PythonData/lib/python3.7/site-packages/xgboost/sklearn.py:797: UserWarning: `early_stopping_rounds` in `fit` method is deprecated for better compatibility with scikit-learn, use `early_stopping_rounds` in constructor or`set_params` instead.\n",
      "  UserWarning,\n",
      "\n"
     ]
    },
    {
     "name": "stdout",
     "output_type": "stream",
     "text": [
      "SCORE:                                                                          \n",
      "0.759402150798955                                                               \n",
      "  9%|▋       | 9/100 [00:16<02:37,  1.73s/trial, best loss: -0.7595844218968345]"
     ]
    },
    {
     "name": "stderr",
     "output_type": "stream",
     "text": [
      "/Users/jasonnoble/opt/anaconda3/envs/PythonData/lib/python3.7/site-packages/xgboost/sklearn.py:797: UserWarning: `eval_metric` in `fit` method is deprecated for better compatibility with scikit-learn, use `eval_metric` in constructor or`set_params` instead.\n",
      "  UserWarning,\n",
      "\n",
      "/Users/jasonnoble/opt/anaconda3/envs/PythonData/lib/python3.7/site-packages/xgboost/sklearn.py:797: UserWarning: `early_stopping_rounds` in `fit` method is deprecated for better compatibility with scikit-learn, use `early_stopping_rounds` in constructor or`set_params` instead.\n",
      "  UserWarning,\n",
      "\n"
     ]
    },
    {
     "name": "stdout",
     "output_type": "stream",
     "text": [
      "SCORE:                                                                          \n",
      "0.7571541405917736                                                              \n",
      " 10%|▋      | 10/100 [00:17<02:30,  1.67s/trial, best loss: -0.7595844218968345]"
     ]
    },
    {
     "name": "stderr",
     "output_type": "stream",
     "text": [
      "/Users/jasonnoble/opt/anaconda3/envs/PythonData/lib/python3.7/site-packages/xgboost/sklearn.py:797: UserWarning: `eval_metric` in `fit` method is deprecated for better compatibility with scikit-learn, use `eval_metric` in constructor or`set_params` instead.\n",
      "  UserWarning,\n",
      "\n",
      "/Users/jasonnoble/opt/anaconda3/envs/PythonData/lib/python3.7/site-packages/xgboost/sklearn.py:797: UserWarning: `early_stopping_rounds` in `fit` method is deprecated for better compatibility with scikit-learn, use `early_stopping_rounds` in constructor or`set_params` instead.\n",
      "  UserWarning,\n",
      "\n"
     ]
    },
    {
     "name": "stdout",
     "output_type": "stream",
     "text": [
      "SCORE:                                                                          \n",
      "0.7583085242116775                                                              \n",
      " 11%|▊      | 11/100 [00:19<02:22,  1.60s/trial, best loss: -0.7595844218968345]"
     ]
    },
    {
     "name": "stderr",
     "output_type": "stream",
     "text": [
      "/Users/jasonnoble/opt/anaconda3/envs/PythonData/lib/python3.7/site-packages/xgboost/sklearn.py:797: UserWarning: `eval_metric` in `fit` method is deprecated for better compatibility with scikit-learn, use `eval_metric` in constructor or`set_params` instead.\n",
      "  UserWarning,\n",
      "\n",
      "/Users/jasonnoble/opt/anaconda3/envs/PythonData/lib/python3.7/site-packages/xgboost/sklearn.py:797: UserWarning: `early_stopping_rounds` in `fit` method is deprecated for better compatibility with scikit-learn, use `early_stopping_rounds` in constructor or`set_params` instead.\n",
      "  UserWarning,\n",
      "\n"
     ]
    },
    {
     "name": "stdout",
     "output_type": "stream",
     "text": [
      "SCORE:                                                                          \n",
      "0.7563035421350022                                                              \n",
      " 12%|▊      | 12/100 [00:20<02:14,  1.53s/trial, best loss: -0.7595844218968345]"
     ]
    },
    {
     "name": "stderr",
     "output_type": "stream",
     "text": [
      "/Users/jasonnoble/opt/anaconda3/envs/PythonData/lib/python3.7/site-packages/xgboost/sklearn.py:797: UserWarning: `eval_metric` in `fit` method is deprecated for better compatibility with scikit-learn, use `eval_metric` in constructor or`set_params` instead.\n",
      "  UserWarning,\n",
      "\n",
      "/Users/jasonnoble/opt/anaconda3/envs/PythonData/lib/python3.7/site-packages/xgboost/sklearn.py:797: UserWarning: `early_stopping_rounds` in `fit` method is deprecated for better compatibility with scikit-learn, use `early_stopping_rounds` in constructor or`set_params` instead.\n",
      "  UserWarning,\n",
      "\n"
     ]
    },
    {
     "name": "stdout",
     "output_type": "stream",
     "text": [
      "SCORE:                                                                          \n",
      "0.7561820280697491                                                              \n",
      " 13%|▉      | 13/100 [00:22<02:11,  1.51s/trial, best loss: -0.7595844218968345]"
     ]
    },
    {
     "name": "stderr",
     "output_type": "stream",
     "text": [
      "/Users/jasonnoble/opt/anaconda3/envs/PythonData/lib/python3.7/site-packages/xgboost/sklearn.py:797: UserWarning: `eval_metric` in `fit` method is deprecated for better compatibility with scikit-learn, use `eval_metric` in constructor or`set_params` instead.\n",
      "  UserWarning,\n",
      "\n",
      "/Users/jasonnoble/opt/anaconda3/envs/PythonData/lib/python3.7/site-packages/xgboost/sklearn.py:797: UserWarning: `early_stopping_rounds` in `fit` method is deprecated for better compatibility with scikit-learn, use `early_stopping_rounds` in constructor or`set_params` instead.\n",
      "  UserWarning,\n",
      "\n"
     ]
    },
    {
     "name": "stdout",
     "output_type": "stream",
     "text": [
      "SCORE:                                                                          \n",
      "0.7587945804726897                                                              \n",
      " 14%|▉      | 14/100 [00:23<02:10,  1.52s/trial, best loss: -0.7595844218968345]"
     ]
    },
    {
     "name": "stderr",
     "output_type": "stream",
     "text": [
      "/Users/jasonnoble/opt/anaconda3/envs/PythonData/lib/python3.7/site-packages/xgboost/sklearn.py:797: UserWarning: `eval_metric` in `fit` method is deprecated for better compatibility with scikit-learn, use `eval_metric` in constructor or`set_params` instead.\n",
      "  UserWarning,\n",
      "\n",
      "/Users/jasonnoble/opt/anaconda3/envs/PythonData/lib/python3.7/site-packages/xgboost/sklearn.py:797: UserWarning: `early_stopping_rounds` in `fit` method is deprecated for better compatibility with scikit-learn, use `early_stopping_rounds` in constructor or`set_params` instead.\n",
      "  UserWarning,\n",
      "\n"
     ]
    },
    {
     "name": "stdout",
     "output_type": "stream",
     "text": [
      "SCORE:                                                                          \n",
      "0.759645178929461                                                               \n",
      " 15%|█▏      | 15/100 [00:24<02:07,  1.49s/trial, best loss: -0.759645178929461]"
     ]
    },
    {
     "name": "stderr",
     "output_type": "stream",
     "text": [
      "/Users/jasonnoble/opt/anaconda3/envs/PythonData/lib/python3.7/site-packages/xgboost/sklearn.py:797: UserWarning: `eval_metric` in `fit` method is deprecated for better compatibility with scikit-learn, use `eval_metric` in constructor or`set_params` instead.\n",
      "  UserWarning,\n",
      "\n",
      "/Users/jasonnoble/opt/anaconda3/envs/PythonData/lib/python3.7/site-packages/xgboost/sklearn.py:797: UserWarning: `early_stopping_rounds` in `fit` method is deprecated for better compatibility with scikit-learn, use `early_stopping_rounds` in constructor or`set_params` instead.\n",
      "  UserWarning,\n",
      "\n"
     ]
    },
    {
     "name": "stdout",
     "output_type": "stream",
     "text": [
      "SCORE:                                                                          \n",
      "0.7563035421350022                                                              \n",
      " 16%|█▎      | 16/100 [00:26<02:01,  1.44s/trial, best loss: -0.759645178929461]"
     ]
    },
    {
     "name": "stderr",
     "output_type": "stream",
     "text": [
      "/Users/jasonnoble/opt/anaconda3/envs/PythonData/lib/python3.7/site-packages/xgboost/sklearn.py:797: UserWarning: `eval_metric` in `fit` method is deprecated for better compatibility with scikit-learn, use `eval_metric` in constructor or`set_params` instead.\n",
      "  UserWarning,\n",
      "\n",
      "/Users/jasonnoble/opt/anaconda3/envs/PythonData/lib/python3.7/site-packages/xgboost/sklearn.py:797: UserWarning: `early_stopping_rounds` in `fit` method is deprecated for better compatibility with scikit-learn, use `early_stopping_rounds` in constructor or`set_params` instead.\n",
      "  UserWarning,\n",
      "\n"
     ]
    },
    {
     "name": "stdout",
     "output_type": "stream",
     "text": [
      "SCORE:                                                                          \n",
      "0.7561820280697491                                                              \n",
      " 17%|█▎      | 17/100 [00:27<01:55,  1.40s/trial, best loss: -0.759645178929461]"
     ]
    },
    {
     "name": "stderr",
     "output_type": "stream",
     "text": [
      "/Users/jasonnoble/opt/anaconda3/envs/PythonData/lib/python3.7/site-packages/xgboost/sklearn.py:797: UserWarning: `eval_metric` in `fit` method is deprecated for better compatibility with scikit-learn, use `eval_metric` in constructor or`set_params` instead.\n",
      "  UserWarning,\n",
      "\n",
      "/Users/jasonnoble/opt/anaconda3/envs/PythonData/lib/python3.7/site-packages/xgboost/sklearn.py:797: UserWarning: `early_stopping_rounds` in `fit` method is deprecated for better compatibility with scikit-learn, use `early_stopping_rounds` in constructor or`set_params` instead.\n",
      "  UserWarning,\n",
      "\n"
     ]
    },
    {
     "name": "stdout",
     "output_type": "stream",
     "text": [
      "SCORE:                                                                          \n",
      "0.7590376086031958                                                              \n",
      " 18%|█▍      | 18/100 [00:28<01:52,  1.38s/trial, best loss: -0.759645178929461]"
     ]
    },
    {
     "name": "stderr",
     "output_type": "stream",
     "text": [
      "/Users/jasonnoble/opt/anaconda3/envs/PythonData/lib/python3.7/site-packages/xgboost/sklearn.py:797: UserWarning: `eval_metric` in `fit` method is deprecated for better compatibility with scikit-learn, use `eval_metric` in constructor or`set_params` instead.\n",
      "  UserWarning,\n",
      "\n",
      "/Users/jasonnoble/opt/anaconda3/envs/PythonData/lib/python3.7/site-packages/xgboost/sklearn.py:797: UserWarning: `early_stopping_rounds` in `fit` method is deprecated for better compatibility with scikit-learn, use `early_stopping_rounds` in constructor or`set_params` instead.\n",
      "  UserWarning,\n",
      "\n"
     ]
    },
    {
     "name": "stdout",
     "output_type": "stream",
     "text": [
      "SCORE:                                                                          \n",
      "0.7566073272981347                                                              \n",
      " 19%|█▌      | 19/100 [00:30<01:49,  1.36s/trial, best loss: -0.759645178929461]"
     ]
    },
    {
     "name": "stderr",
     "output_type": "stream",
     "text": [
      "/Users/jasonnoble/opt/anaconda3/envs/PythonData/lib/python3.7/site-packages/xgboost/sklearn.py:797: UserWarning: `eval_metric` in `fit` method is deprecated for better compatibility with scikit-learn, use `eval_metric` in constructor or`set_params` instead.\n",
      "  UserWarning,\n",
      "\n",
      "/Users/jasonnoble/opt/anaconda3/envs/PythonData/lib/python3.7/site-packages/xgboost/sklearn.py:797: UserWarning: `early_stopping_rounds` in `fit` method is deprecated for better compatibility with scikit-learn, use `early_stopping_rounds` in constructor or`set_params` instead.\n",
      "  UserWarning,\n",
      "\n"
     ]
    },
    {
     "name": "stdout",
     "output_type": "stream",
     "text": [
      "SCORE:                                                                          \n",
      "0.7583085242116775                                                              \n",
      " 20%|█▌      | 20/100 [00:31<01:48,  1.36s/trial, best loss: -0.759645178929461]"
     ]
    },
    {
     "name": "stderr",
     "output_type": "stream",
     "text": [
      "/Users/jasonnoble/opt/anaconda3/envs/PythonData/lib/python3.7/site-packages/xgboost/sklearn.py:797: UserWarning: `eval_metric` in `fit` method is deprecated for better compatibility with scikit-learn, use `eval_metric` in constructor or`set_params` instead.\n",
      "  UserWarning,\n",
      "\n",
      "/Users/jasonnoble/opt/anaconda3/envs/PythonData/lib/python3.7/site-packages/xgboost/sklearn.py:797: UserWarning: `early_stopping_rounds` in `fit` method is deprecated for better compatibility with scikit-learn, use `early_stopping_rounds` in constructor or`set_params` instead.\n",
      "  UserWarning,\n",
      "\n"
     ]
    },
    {
     "name": "stdout",
     "output_type": "stream",
     "text": [
      "SCORE:                                                                          \n",
      "0.758247767179051                                                               \n",
      " 21%|█▋      | 21/100 [00:32<01:48,  1.37s/trial, best loss: -0.759645178929461]"
     ]
    },
    {
     "name": "stderr",
     "output_type": "stream",
     "text": [
      "/Users/jasonnoble/opt/anaconda3/envs/PythonData/lib/python3.7/site-packages/xgboost/sklearn.py:797: UserWarning: `eval_metric` in `fit` method is deprecated for better compatibility with scikit-learn, use `eval_metric` in constructor or`set_params` instead.\n",
      "  UserWarning,\n",
      "\n",
      "/Users/jasonnoble/opt/anaconda3/envs/PythonData/lib/python3.7/site-packages/xgboost/sklearn.py:797: UserWarning: `early_stopping_rounds` in `fit` method is deprecated for better compatibility with scikit-learn, use `early_stopping_rounds` in constructor or`set_params` instead.\n",
      "  UserWarning,\n",
      "\n"
     ]
    },
    {
     "name": "stdout",
     "output_type": "stream",
     "text": [
      "SCORE:                                                                          \n",
      "0.7584907953095571                                                              \n",
      " 22%|█▊      | 22/100 [00:34<01:48,  1.39s/trial, best loss: -0.759645178929461]"
     ]
    },
    {
     "name": "stderr",
     "output_type": "stream",
     "text": [
      "/Users/jasonnoble/opt/anaconda3/envs/PythonData/lib/python3.7/site-packages/xgboost/sklearn.py:797: UserWarning: `eval_metric` in `fit` method is deprecated for better compatibility with scikit-learn, use `eval_metric` in constructor or`set_params` instead.\n",
      "  UserWarning,\n",
      "\n",
      "/Users/jasonnoble/opt/anaconda3/envs/PythonData/lib/python3.7/site-packages/xgboost/sklearn.py:797: UserWarning: `early_stopping_rounds` in `fit` method is deprecated for better compatibility with scikit-learn, use `early_stopping_rounds` in constructor or`set_params` instead.\n",
      "  UserWarning,\n",
      "\n"
     ]
    },
    {
     "name": "stdout",
     "output_type": "stream",
     "text": [
      "SCORE:                                                                          \n",
      "0.7587945804726897                                                              \n",
      " 23%|█▊      | 23/100 [00:35<01:49,  1.42s/trial, best loss: -0.759645178929461]"
     ]
    },
    {
     "name": "stderr",
     "output_type": "stream",
     "text": [
      "/Users/jasonnoble/opt/anaconda3/envs/PythonData/lib/python3.7/site-packages/xgboost/sklearn.py:797: UserWarning: `eval_metric` in `fit` method is deprecated for better compatibility with scikit-learn, use `eval_metric` in constructor or`set_params` instead.\n",
      "  UserWarning,\n",
      "\n",
      "/Users/jasonnoble/opt/anaconda3/envs/PythonData/lib/python3.7/site-packages/xgboost/sklearn.py:797: UserWarning: `early_stopping_rounds` in `fit` method is deprecated for better compatibility with scikit-learn, use `early_stopping_rounds` in constructor or`set_params` instead.\n",
      "  UserWarning,\n",
      "\n"
     ]
    },
    {
     "name": "stdout",
     "output_type": "stream",
     "text": [
      "SCORE:                                                                          \n",
      "0.7589160945379427                                                              \n",
      " 24%|█▉      | 24/100 [00:37<01:52,  1.47s/trial, best loss: -0.759645178929461]"
     ]
    },
    {
     "name": "stderr",
     "output_type": "stream",
     "text": [
      "/Users/jasonnoble/opt/anaconda3/envs/PythonData/lib/python3.7/site-packages/xgboost/sklearn.py:797: UserWarning: `eval_metric` in `fit` method is deprecated for better compatibility with scikit-learn, use `eval_metric` in constructor or`set_params` instead.\n",
      "  UserWarning,\n",
      "\n",
      "/Users/jasonnoble/opt/anaconda3/envs/PythonData/lib/python3.7/site-packages/xgboost/sklearn.py:797: UserWarning: `early_stopping_rounds` in `fit` method is deprecated for better compatibility with scikit-learn, use `early_stopping_rounds` in constructor or`set_params` instead.\n",
      "  UserWarning,\n",
      "\n"
     ]
    },
    {
     "name": "stdout",
     "output_type": "stream",
     "text": [
      "SCORE:                                                                          \n",
      "0.7584300382769306                                                              \n",
      " 25%|██      | 25/100 [00:38<01:49,  1.45s/trial, best loss: -0.759645178929461]"
     ]
    },
    {
     "name": "stderr",
     "output_type": "stream",
     "text": [
      "/Users/jasonnoble/opt/anaconda3/envs/PythonData/lib/python3.7/site-packages/xgboost/sklearn.py:797: UserWarning: `eval_metric` in `fit` method is deprecated for better compatibility with scikit-learn, use `eval_metric` in constructor or`set_params` instead.\n",
      "  UserWarning,\n",
      "\n",
      "/Users/jasonnoble/opt/anaconda3/envs/PythonData/lib/python3.7/site-packages/xgboost/sklearn.py:797: UserWarning: `early_stopping_rounds` in `fit` method is deprecated for better compatibility with scikit-learn, use `early_stopping_rounds` in constructor or`set_params` instead.\n",
      "  UserWarning,\n",
      "\n"
     ]
    },
    {
     "name": "stdout",
     "output_type": "stream",
     "text": [
      "SCORE:                                                                          \n",
      "0.7597059359620876                                                              \n",
      " 26%|█▊     | 26/100 [00:40<01:50,  1.49s/trial, best loss: -0.7597059359620876]"
     ]
    },
    {
     "name": "stderr",
     "output_type": "stream",
     "text": [
      "/Users/jasonnoble/opt/anaconda3/envs/PythonData/lib/python3.7/site-packages/xgboost/sklearn.py:797: UserWarning: `eval_metric` in `fit` method is deprecated for better compatibility with scikit-learn, use `eval_metric` in constructor or`set_params` instead.\n",
      "  UserWarning,\n",
      "\n",
      "/Users/jasonnoble/opt/anaconda3/envs/PythonData/lib/python3.7/site-packages/xgboost/sklearn.py:797: UserWarning: `early_stopping_rounds` in `fit` method is deprecated for better compatibility with scikit-learn, use `early_stopping_rounds` in constructor or`set_params` instead.\n",
      "  UserWarning,\n",
      "\n"
     ]
    },
    {
     "name": "stdout",
     "output_type": "stream",
     "text": [
      "SCORE:                                                                          \n",
      "0.7590376086031958                                                              \n",
      " 27%|█▉     | 27/100 [00:41<01:48,  1.49s/trial, best loss: -0.7597059359620876]"
     ]
    },
    {
     "name": "stderr",
     "output_type": "stream",
     "text": [
      "/Users/jasonnoble/opt/anaconda3/envs/PythonData/lib/python3.7/site-packages/xgboost/sklearn.py:797: UserWarning: `eval_metric` in `fit` method is deprecated for better compatibility with scikit-learn, use `eval_metric` in constructor or`set_params` instead.\n",
      "  UserWarning,\n",
      "\n",
      "/Users/jasonnoble/opt/anaconda3/envs/PythonData/lib/python3.7/site-packages/xgboost/sklearn.py:797: UserWarning: `early_stopping_rounds` in `fit` method is deprecated for better compatibility with scikit-learn, use `early_stopping_rounds` in constructor or`set_params` instead.\n",
      "  UserWarning,\n",
      "\n"
     ]
    },
    {
     "name": "stdout",
     "output_type": "stream",
     "text": [
      "SCORE:                                                                          \n",
      "0.7586730664074367                                                              \n",
      " 28%|█▉     | 28/100 [00:43<01:47,  1.49s/trial, best loss: -0.7597059359620876]"
     ]
    },
    {
     "name": "stderr",
     "output_type": "stream",
     "text": [
      "/Users/jasonnoble/opt/anaconda3/envs/PythonData/lib/python3.7/site-packages/xgboost/sklearn.py:797: UserWarning: `eval_metric` in `fit` method is deprecated for better compatibility with scikit-learn, use `eval_metric` in constructor or`set_params` instead.\n",
      "  UserWarning,\n",
      "\n",
      "/Users/jasonnoble/opt/anaconda3/envs/PythonData/lib/python3.7/site-packages/xgboost/sklearn.py:797: UserWarning: `early_stopping_rounds` in `fit` method is deprecated for better compatibility with scikit-learn, use `early_stopping_rounds` in constructor or`set_params` instead.\n",
      "  UserWarning,\n",
      "\n"
     ]
    },
    {
     "name": "stdout",
     "output_type": "stream",
     "text": [
      "SCORE:                                                                          \n",
      "0.7589768515705693                                                              \n",
      " 29%|██     | 29/100 [00:44<01:43,  1.45s/trial, best loss: -0.7597059359620876]"
     ]
    },
    {
     "name": "stderr",
     "output_type": "stream",
     "text": [
      "/Users/jasonnoble/opt/anaconda3/envs/PythonData/lib/python3.7/site-packages/xgboost/sklearn.py:797: UserWarning: `eval_metric` in `fit` method is deprecated for better compatibility with scikit-learn, use `eval_metric` in constructor or`set_params` instead.\n",
      "  UserWarning,\n",
      "\n",
      "/Users/jasonnoble/opt/anaconda3/envs/PythonData/lib/python3.7/site-packages/xgboost/sklearn.py:797: UserWarning: `early_stopping_rounds` in `fit` method is deprecated for better compatibility with scikit-learn, use `early_stopping_rounds` in constructor or`set_params` instead.\n",
      "  UserWarning,\n",
      "\n"
     ]
    },
    {
     "name": "stdout",
     "output_type": "stream",
     "text": [
      "SCORE:                                                                          \n",
      "0.7555744577434839                                                              \n",
      " 30%|██     | 30/100 [00:46<01:40,  1.44s/trial, best loss: -0.7597059359620876]"
     ]
    },
    {
     "name": "stderr",
     "output_type": "stream",
     "text": [
      "/Users/jasonnoble/opt/anaconda3/envs/PythonData/lib/python3.7/site-packages/xgboost/sklearn.py:797: UserWarning: `eval_metric` in `fit` method is deprecated for better compatibility with scikit-learn, use `eval_metric` in constructor or`set_params` instead.\n",
      "  UserWarning,\n",
      "\n",
      "/Users/jasonnoble/opt/anaconda3/envs/PythonData/lib/python3.7/site-packages/xgboost/sklearn.py:797: UserWarning: `early_stopping_rounds` in `fit` method is deprecated for better compatibility with scikit-learn, use `early_stopping_rounds` in constructor or`set_params` instead.\n",
      "  UserWarning,\n",
      "\n"
     ]
    },
    {
     "name": "stdout",
     "output_type": "stream",
     "text": [
      "SCORE:                                                                          \n",
      "0.7600704781578468                                                              \n",
      " 31%|██▏    | 31/100 [00:47<01:36,  1.40s/trial, best loss: -0.7600704781578468]"
     ]
    },
    {
     "name": "stderr",
     "output_type": "stream",
     "text": [
      "/Users/jasonnoble/opt/anaconda3/envs/PythonData/lib/python3.7/site-packages/xgboost/sklearn.py:797: UserWarning: `eval_metric` in `fit` method is deprecated for better compatibility with scikit-learn, use `eval_metric` in constructor or`set_params` instead.\n",
      "  UserWarning,\n",
      "\n",
      "/Users/jasonnoble/opt/anaconda3/envs/PythonData/lib/python3.7/site-packages/xgboost/sklearn.py:797: UserWarning: `early_stopping_rounds` in `fit` method is deprecated for better compatibility with scikit-learn, use `early_stopping_rounds` in constructor or`set_params` instead.\n",
      "  UserWarning,\n",
      "\n"
     ]
    },
    {
     "name": "stdout",
     "output_type": "stream",
     "text": [
      "SCORE:                                                                          \n",
      "0.7601919922230999                                                              \n",
      " 32%|██▏    | 32/100 [00:48<01:34,  1.38s/trial, best loss: -0.7601919922230999]"
     ]
    },
    {
     "name": "stderr",
     "output_type": "stream",
     "text": [
      "/Users/jasonnoble/opt/anaconda3/envs/PythonData/lib/python3.7/site-packages/xgboost/sklearn.py:797: UserWarning: `eval_metric` in `fit` method is deprecated for better compatibility with scikit-learn, use `eval_metric` in constructor or`set_params` instead.\n",
      "  UserWarning,\n",
      "\n",
      "/Users/jasonnoble/opt/anaconda3/envs/PythonData/lib/python3.7/site-packages/xgboost/sklearn.py:797: UserWarning: `early_stopping_rounds` in `fit` method is deprecated for better compatibility with scikit-learn, use `early_stopping_rounds` in constructor or`set_params` instead.\n",
      "  UserWarning,\n",
      "\n"
     ]
    },
    {
     "name": "stdout",
     "output_type": "stream",
     "text": [
      "SCORE:                                                                          \n",
      "0.7587945804726897                                                              \n",
      " 33%|██▎    | 33/100 [00:50<01:31,  1.37s/trial, best loss: -0.7601919922230999]"
     ]
    },
    {
     "name": "stderr",
     "output_type": "stream",
     "text": [
      "/Users/jasonnoble/opt/anaconda3/envs/PythonData/lib/python3.7/site-packages/xgboost/sklearn.py:797: UserWarning: `eval_metric` in `fit` method is deprecated for better compatibility with scikit-learn, use `eval_metric` in constructor or`set_params` instead.\n",
      "  UserWarning,\n",
      "\n",
      "/Users/jasonnoble/opt/anaconda3/envs/PythonData/lib/python3.7/site-packages/xgboost/sklearn.py:797: UserWarning: `early_stopping_rounds` in `fit` method is deprecated for better compatibility with scikit-learn, use `early_stopping_rounds` in constructor or`set_params` instead.\n",
      "  UserWarning,\n",
      "\n"
     ]
    },
    {
     "name": "stdout",
     "output_type": "stream",
     "text": [
      "SCORE:                                                                          \n",
      "0.7601312351904733                                                              \n",
      " 34%|██▍    | 34/100 [00:51<01:29,  1.35s/trial, best loss: -0.7601919922230999]"
     ]
    },
    {
     "name": "stderr",
     "output_type": "stream",
     "text": [
      "/Users/jasonnoble/opt/anaconda3/envs/PythonData/lib/python3.7/site-packages/xgboost/sklearn.py:797: UserWarning: `eval_metric` in `fit` method is deprecated for better compatibility with scikit-learn, use `eval_metric` in constructor or`set_params` instead.\n",
      "  UserWarning,\n",
      "\n",
      "/Users/jasonnoble/opt/anaconda3/envs/PythonData/lib/python3.7/site-packages/xgboost/sklearn.py:797: UserWarning: `early_stopping_rounds` in `fit` method is deprecated for better compatibility with scikit-learn, use `early_stopping_rounds` in constructor or`set_params` instead.\n",
      "  UserWarning,\n",
      "\n"
     ]
    },
    {
     "name": "stdout",
     "output_type": "stream",
     "text": [
      "SCORE:                                                                          \n",
      "0.7586730664074367                                                              \n",
      " 35%|██▍    | 35/100 [00:52<01:28,  1.37s/trial, best loss: -0.7601919922230999]"
     ]
    },
    {
     "name": "stderr",
     "output_type": "stream",
     "text": [
      "/Users/jasonnoble/opt/anaconda3/envs/PythonData/lib/python3.7/site-packages/xgboost/sklearn.py:797: UserWarning: `eval_metric` in `fit` method is deprecated for better compatibility with scikit-learn, use `eval_metric` in constructor or`set_params` instead.\n",
      "  UserWarning,\n",
      "\n",
      "/Users/jasonnoble/opt/anaconda3/envs/PythonData/lib/python3.7/site-packages/xgboost/sklearn.py:797: UserWarning: `early_stopping_rounds` in `fit` method is deprecated for better compatibility with scikit-learn, use `early_stopping_rounds` in constructor or`set_params` instead.\n",
      "  UserWarning,\n",
      "\n"
     ]
    },
    {
     "name": "stdout",
     "output_type": "stream",
     "text": [
      "SCORE:                                                                          \n",
      "0.7586123093748102                                                              \n",
      " 36%|██▌    | 36/100 [00:54<01:28,  1.38s/trial, best loss: -0.7601919922230999]"
     ]
    },
    {
     "name": "stderr",
     "output_type": "stream",
     "text": [
      "/Users/jasonnoble/opt/anaconda3/envs/PythonData/lib/python3.7/site-packages/xgboost/sklearn.py:797: UserWarning: `eval_metric` in `fit` method is deprecated for better compatibility with scikit-learn, use `eval_metric` in constructor or`set_params` instead.\n",
      "  UserWarning,\n",
      "\n",
      "/Users/jasonnoble/opt/anaconda3/envs/PythonData/lib/python3.7/site-packages/xgboost/sklearn.py:797: UserWarning: `early_stopping_rounds` in `fit` method is deprecated for better compatibility with scikit-learn, use `early_stopping_rounds` in constructor or`set_params` instead.\n",
      "  UserWarning,\n",
      "\n"
     ]
    },
    {
     "name": "stdout",
     "output_type": "stream",
     "text": [
      "SCORE:                                                                          \n",
      "0.7598274500273406                                                              \n",
      " 37%|██▌    | 37/100 [00:55<01:27,  1.39s/trial, best loss: -0.7601919922230999]"
     ]
    },
    {
     "name": "stderr",
     "output_type": "stream",
     "text": [
      "/Users/jasonnoble/opt/anaconda3/envs/PythonData/lib/python3.7/site-packages/xgboost/sklearn.py:797: UserWarning: `eval_metric` in `fit` method is deprecated for better compatibility with scikit-learn, use `eval_metric` in constructor or`set_params` instead.\n",
      "  UserWarning,\n",
      "\n",
      "/Users/jasonnoble/opt/anaconda3/envs/PythonData/lib/python3.7/site-packages/xgboost/sklearn.py:797: UserWarning: `early_stopping_rounds` in `fit` method is deprecated for better compatibility with scikit-learn, use `early_stopping_rounds` in constructor or`set_params` instead.\n",
      "  UserWarning,\n",
      "\n"
     ]
    },
    {
     "name": "stdout",
     "output_type": "stream",
     "text": [
      "SCORE:                                                                          \n",
      "0.7581870101464244                                                              \n",
      " 38%|██▋    | 38/100 [00:57<01:26,  1.39s/trial, best loss: -0.7601919922230999]"
     ]
    },
    {
     "name": "stderr",
     "output_type": "stream",
     "text": [
      "/Users/jasonnoble/opt/anaconda3/envs/PythonData/lib/python3.7/site-packages/xgboost/sklearn.py:797: UserWarning: `eval_metric` in `fit` method is deprecated for better compatibility with scikit-learn, use `eval_metric` in constructor or`set_params` instead.\n",
      "  UserWarning,\n",
      "\n",
      "/Users/jasonnoble/opt/anaconda3/envs/PythonData/lib/python3.7/site-packages/xgboost/sklearn.py:797: UserWarning: `early_stopping_rounds` in `fit` method is deprecated for better compatibility with scikit-learn, use `early_stopping_rounds` in constructor or`set_params` instead.\n",
      "  UserWarning,\n",
      "\n"
     ]
    },
    {
     "name": "stdout",
     "output_type": "stream",
     "text": [
      "SCORE:                                                                          \n",
      "0.7589160945379427                                                              \n",
      " 39%|██▋    | 39/100 [00:58<01:24,  1.39s/trial, best loss: -0.7601919922230999]"
     ]
    },
    {
     "name": "stderr",
     "output_type": "stream",
     "text": [
      "/Users/jasonnoble/opt/anaconda3/envs/PythonData/lib/python3.7/site-packages/xgboost/sklearn.py:797: UserWarning: `eval_metric` in `fit` method is deprecated for better compatibility with scikit-learn, use `eval_metric` in constructor or`set_params` instead.\n",
      "  UserWarning,\n",
      "\n",
      "/Users/jasonnoble/opt/anaconda3/envs/PythonData/lib/python3.7/site-packages/xgboost/sklearn.py:797: UserWarning: `early_stopping_rounds` in `fit` method is deprecated for better compatibility with scikit-learn, use `early_stopping_rounds` in constructor or`set_params` instead.\n",
      "  UserWarning,\n",
      "\n"
     ]
    },
    {
     "name": "stdout",
     "output_type": "stream",
     "text": [
      "SCORE:                                                                          \n",
      "0.7587945804726897                                                              \n",
      " 40%|██▊    | 40/100 [00:59<01:22,  1.38s/trial, best loss: -0.7601919922230999]"
     ]
    },
    {
     "name": "stderr",
     "output_type": "stream",
     "text": [
      "/Users/jasonnoble/opt/anaconda3/envs/PythonData/lib/python3.7/site-packages/xgboost/sklearn.py:797: UserWarning: `eval_metric` in `fit` method is deprecated for better compatibility with scikit-learn, use `eval_metric` in constructor or`set_params` instead.\n",
      "  UserWarning,\n",
      "\n",
      "/Users/jasonnoble/opt/anaconda3/envs/PythonData/lib/python3.7/site-packages/xgboost/sklearn.py:797: UserWarning: `early_stopping_rounds` in `fit` method is deprecated for better compatibility with scikit-learn, use `early_stopping_rounds` in constructor or`set_params` instead.\n",
      "  UserWarning,\n",
      "\n"
     ]
    },
    {
     "name": "stdout",
     "output_type": "stream",
     "text": [
      "SCORE:                                                                          \n",
      "0.7595236648642081                                                              \n",
      " 41%|██▊    | 41/100 [01:01<01:21,  1.38s/trial, best loss: -0.7601919922230999]"
     ]
    },
    {
     "name": "stderr",
     "output_type": "stream",
     "text": [
      "/Users/jasonnoble/opt/anaconda3/envs/PythonData/lib/python3.7/site-packages/xgboost/sklearn.py:797: UserWarning: `eval_metric` in `fit` method is deprecated for better compatibility with scikit-learn, use `eval_metric` in constructor or`set_params` instead.\n",
      "  UserWarning,\n",
      "\n",
      "/Users/jasonnoble/opt/anaconda3/envs/PythonData/lib/python3.7/site-packages/xgboost/sklearn.py:797: UserWarning: `early_stopping_rounds` in `fit` method is deprecated for better compatibility with scikit-learn, use `early_stopping_rounds` in constructor or`set_params` instead.\n",
      "  UserWarning,\n",
      "\n"
     ]
    },
    {
     "name": "stdout",
     "output_type": "stream",
     "text": [
      "SCORE:                                                                          \n",
      "0.7579439820159184                                                              \n",
      " 42%|██▉    | 42/100 [01:02<01:20,  1.39s/trial, best loss: -0.7601919922230999]"
     ]
    },
    {
     "name": "stderr",
     "output_type": "stream",
     "text": [
      "/Users/jasonnoble/opt/anaconda3/envs/PythonData/lib/python3.7/site-packages/xgboost/sklearn.py:797: UserWarning: `eval_metric` in `fit` method is deprecated for better compatibility with scikit-learn, use `eval_metric` in constructor or`set_params` instead.\n",
      "  UserWarning,\n",
      "\n",
      "/Users/jasonnoble/opt/anaconda3/envs/PythonData/lib/python3.7/site-packages/xgboost/sklearn.py:797: UserWarning: `early_stopping_rounds` in `fit` method is deprecated for better compatibility with scikit-learn, use `early_stopping_rounds` in constructor or`set_params` instead.\n",
      "  UserWarning,\n",
      "\n"
     ]
    },
    {
     "name": "stdout",
     "output_type": "stream",
     "text": [
      "SCORE:                                                                          \n",
      "0.7568503554286409                                                              \n",
      " 43%|███    | 43/100 [01:04<01:21,  1.43s/trial, best loss: -0.7601919922230999]"
     ]
    },
    {
     "name": "stderr",
     "output_type": "stream",
     "text": [
      "/Users/jasonnoble/opt/anaconda3/envs/PythonData/lib/python3.7/site-packages/xgboost/sklearn.py:797: UserWarning: `eval_metric` in `fit` method is deprecated for better compatibility with scikit-learn, use `eval_metric` in constructor or`set_params` instead.\n",
      "  UserWarning,\n",
      "\n",
      "/Users/jasonnoble/opt/anaconda3/envs/PythonData/lib/python3.7/site-packages/xgboost/sklearn.py:797: UserWarning: `early_stopping_rounds` in `fit` method is deprecated for better compatibility with scikit-learn, use `early_stopping_rounds` in constructor or`set_params` instead.\n",
      "  UserWarning,\n",
      "\n"
     ]
    },
    {
     "name": "stdout",
     "output_type": "stream",
     "text": [
      "SCORE:                                                                          \n",
      "0.7580654960811714                                                              \n",
      " 44%|███    | 44/100 [01:05<01:20,  1.44s/trial, best loss: -0.7601919922230999]"
     ]
    },
    {
     "name": "stderr",
     "output_type": "stream",
     "text": [
      "/Users/jasonnoble/opt/anaconda3/envs/PythonData/lib/python3.7/site-packages/xgboost/sklearn.py:797: UserWarning: `eval_metric` in `fit` method is deprecated for better compatibility with scikit-learn, use `eval_metric` in constructor or`set_params` instead.\n",
      "  UserWarning,\n",
      "\n",
      "/Users/jasonnoble/opt/anaconda3/envs/PythonData/lib/python3.7/site-packages/xgboost/sklearn.py:797: UserWarning: `early_stopping_rounds` in `fit` method is deprecated for better compatibility with scikit-learn, use `early_stopping_rounds` in constructor or`set_params` instead.\n",
      "  UserWarning,\n",
      "\n"
     ]
    },
    {
     "name": "stdout",
     "output_type": "stream",
     "text": [
      "SCORE:                                                                          \n",
      "0.7581870101464244                                                              \n",
      " 45%|███▏   | 45/100 [01:07<01:23,  1.51s/trial, best loss: -0.7601919922230999]"
     ]
    },
    {
     "name": "stderr",
     "output_type": "stream",
     "text": [
      "/Users/jasonnoble/opt/anaconda3/envs/PythonData/lib/python3.7/site-packages/xgboost/sklearn.py:797: UserWarning: `eval_metric` in `fit` method is deprecated for better compatibility with scikit-learn, use `eval_metric` in constructor or`set_params` instead.\n",
      "  UserWarning,\n",
      "\n",
      "/Users/jasonnoble/opt/anaconda3/envs/PythonData/lib/python3.7/site-packages/xgboost/sklearn.py:797: UserWarning: `early_stopping_rounds` in `fit` method is deprecated for better compatibility with scikit-learn, use `early_stopping_rounds` in constructor or`set_params` instead.\n",
      "  UserWarning,\n",
      "\n"
     ]
    },
    {
     "name": "stdout",
     "output_type": "stream",
     "text": [
      "SCORE:                                                                          \n",
      "0.7592198797010754                                                              \n",
      " 46%|███▏   | 46/100 [01:08<01:19,  1.47s/trial, best loss: -0.7601919922230999]"
     ]
    },
    {
     "name": "stderr",
     "output_type": "stream",
     "text": [
      "/Users/jasonnoble/opt/anaconda3/envs/PythonData/lib/python3.7/site-packages/xgboost/sklearn.py:797: UserWarning: `eval_metric` in `fit` method is deprecated for better compatibility with scikit-learn, use `eval_metric` in constructor or`set_params` instead.\n",
      "  UserWarning,\n",
      "\n",
      "/Users/jasonnoble/opt/anaconda3/envs/PythonData/lib/python3.7/site-packages/xgboost/sklearn.py:797: UserWarning: `early_stopping_rounds` in `fit` method is deprecated for better compatibility with scikit-learn, use `early_stopping_rounds` in constructor or`set_params` instead.\n",
      "  UserWarning,\n",
      "\n"
     ]
    },
    {
     "name": "stdout",
     "output_type": "stream",
     "text": [
      "SCORE:                                                                          \n",
      "0.7585515523421836                                                              \n",
      " 47%|███▎   | 47/100 [01:10<01:16,  1.44s/trial, best loss: -0.7601919922230999]"
     ]
    },
    {
     "name": "stderr",
     "output_type": "stream",
     "text": [
      "/Users/jasonnoble/opt/anaconda3/envs/PythonData/lib/python3.7/site-packages/xgboost/sklearn.py:797: UserWarning: `eval_metric` in `fit` method is deprecated for better compatibility with scikit-learn, use `eval_metric` in constructor or`set_params` instead.\n",
      "  UserWarning,\n",
      "\n",
      "/Users/jasonnoble/opt/anaconda3/envs/PythonData/lib/python3.7/site-packages/xgboost/sklearn.py:797: UserWarning: `early_stopping_rounds` in `fit` method is deprecated for better compatibility with scikit-learn, use `early_stopping_rounds` in constructor or`set_params` instead.\n",
      "  UserWarning,\n",
      "\n"
     ]
    },
    {
     "name": "stdout",
     "output_type": "stream",
     "text": [
      "SCORE:                                                                          \n",
      "0.7577617109180388                                                              \n",
      " 48%|███▎   | 48/100 [01:11<01:13,  1.41s/trial, best loss: -0.7601919922230999]"
     ]
    },
    {
     "name": "stderr",
     "output_type": "stream",
     "text": [
      "/Users/jasonnoble/opt/anaconda3/envs/PythonData/lib/python3.7/site-packages/xgboost/sklearn.py:797: UserWarning: `eval_metric` in `fit` method is deprecated for better compatibility with scikit-learn, use `eval_metric` in constructor or`set_params` instead.\n",
      "  UserWarning,\n",
      "\n",
      "/Users/jasonnoble/opt/anaconda3/envs/PythonData/lib/python3.7/site-packages/xgboost/sklearn.py:797: UserWarning: `early_stopping_rounds` in `fit` method is deprecated for better compatibility with scikit-learn, use `early_stopping_rounds` in constructor or`set_params` instead.\n",
      "  UserWarning,\n",
      "\n"
     ]
    },
    {
     "name": "stdout",
     "output_type": "stream",
     "text": [
      "SCORE:                                                                          \n",
      "0.7586730664074367                                                              \n",
      " 49%|███▍   | 49/100 [01:12<01:12,  1.42s/trial, best loss: -0.7601919922230999]"
     ]
    },
    {
     "name": "stderr",
     "output_type": "stream",
     "text": [
      "/Users/jasonnoble/opt/anaconda3/envs/PythonData/lib/python3.7/site-packages/xgboost/sklearn.py:797: UserWarning: `eval_metric` in `fit` method is deprecated for better compatibility with scikit-learn, use `eval_metric` in constructor or`set_params` instead.\n",
      "  UserWarning,\n",
      "\n",
      "/Users/jasonnoble/opt/anaconda3/envs/PythonData/lib/python3.7/site-packages/xgboost/sklearn.py:797: UserWarning: `early_stopping_rounds` in `fit` method is deprecated for better compatibility with scikit-learn, use `early_stopping_rounds` in constructor or`set_params` instead.\n",
      "  UserWarning,\n",
      "\n"
     ]
    },
    {
     "name": "stdout",
     "output_type": "stream",
     "text": [
      "SCORE:                                                                          \n",
      "0.7556352147761103                                                              \n",
      " 50%|███▌   | 50/100 [01:14<01:11,  1.42s/trial, best loss: -0.7601919922230999]"
     ]
    },
    {
     "name": "stderr",
     "output_type": "stream",
     "text": [
      "/Users/jasonnoble/opt/anaconda3/envs/PythonData/lib/python3.7/site-packages/xgboost/sklearn.py:797: UserWarning: `eval_metric` in `fit` method is deprecated for better compatibility with scikit-learn, use `eval_metric` in constructor or`set_params` instead.\n",
      "  UserWarning,\n",
      "\n",
      "/Users/jasonnoble/opt/anaconda3/envs/PythonData/lib/python3.7/site-packages/xgboost/sklearn.py:797: UserWarning: `early_stopping_rounds` in `fit` method is deprecated for better compatibility with scikit-learn, use `early_stopping_rounds` in constructor or`set_params` instead.\n",
      "  UserWarning,\n",
      "\n"
     ]
    },
    {
     "name": "stdout",
     "output_type": "stream",
     "text": [
      "SCORE:                                                                          \n",
      "0.7571541405917736                                                              \n",
      " 51%|███▌   | 51/100 [01:15<01:09,  1.43s/trial, best loss: -0.7601919922230999]"
     ]
    },
    {
     "name": "stderr",
     "output_type": "stream",
     "text": [
      "/Users/jasonnoble/opt/anaconda3/envs/PythonData/lib/python3.7/site-packages/xgboost/sklearn.py:797: UserWarning: `eval_metric` in `fit` method is deprecated for better compatibility with scikit-learn, use `eval_metric` in constructor or`set_params` instead.\n",
      "  UserWarning,\n",
      "\n",
      "/Users/jasonnoble/opt/anaconda3/envs/PythonData/lib/python3.7/site-packages/xgboost/sklearn.py:797: UserWarning: `early_stopping_rounds` in `fit` method is deprecated for better compatibility with scikit-learn, use `early_stopping_rounds` in constructor or`set_params` instead.\n",
      "  UserWarning,\n",
      "\n"
     ]
    },
    {
     "name": "stdout",
     "output_type": "stream",
     "text": [
      "SCORE:                                                                          \n",
      "0.7584907953095571                                                              \n",
      " 52%|███▋   | 52/100 [01:17<01:13,  1.53s/trial, best loss: -0.7601919922230999]"
     ]
    },
    {
     "name": "stderr",
     "output_type": "stream",
     "text": [
      "/Users/jasonnoble/opt/anaconda3/envs/PythonData/lib/python3.7/site-packages/xgboost/sklearn.py:797: UserWarning: `eval_metric` in `fit` method is deprecated for better compatibility with scikit-learn, use `eval_metric` in constructor or`set_params` instead.\n",
      "  UserWarning,\n",
      "\n",
      "/Users/jasonnoble/opt/anaconda3/envs/PythonData/lib/python3.7/site-packages/xgboost/sklearn.py:797: UserWarning: `early_stopping_rounds` in `fit` method is deprecated for better compatibility with scikit-learn, use `early_stopping_rounds` in constructor or`set_params` instead.\n",
      "  UserWarning,\n",
      "\n"
     ]
    },
    {
     "name": "stdout",
     "output_type": "stream",
     "text": [
      "SCORE:                                                                          \n",
      "0.7590376086031958                                                              \n",
      " 53%|███▋   | 53/100 [01:19<01:14,  1.58s/trial, best loss: -0.7601919922230999]"
     ]
    },
    {
     "name": "stderr",
     "output_type": "stream",
     "text": [
      "/Users/jasonnoble/opt/anaconda3/envs/PythonData/lib/python3.7/site-packages/xgboost/sklearn.py:797: UserWarning: `eval_metric` in `fit` method is deprecated for better compatibility with scikit-learn, use `eval_metric` in constructor or`set_params` instead.\n",
      "  UserWarning,\n",
      "\n",
      "/Users/jasonnoble/opt/anaconda3/envs/PythonData/lib/python3.7/site-packages/xgboost/sklearn.py:797: UserWarning: `early_stopping_rounds` in `fit` method is deprecated for better compatibility with scikit-learn, use `early_stopping_rounds` in constructor or`set_params` instead.\n",
      "  UserWarning,\n",
      "\n"
     ]
    },
    {
     "name": "stdout",
     "output_type": "stream",
     "text": [
      "SCORE:                                                                          \n",
      "0.7604350203536059                                                              \n",
      " 54%|███▊   | 54/100 [01:20<01:12,  1.58s/trial, best loss: -0.7604350203536059]"
     ]
    },
    {
     "name": "stderr",
     "output_type": "stream",
     "text": [
      "/Users/jasonnoble/opt/anaconda3/envs/PythonData/lib/python3.7/site-packages/xgboost/sklearn.py:797: UserWarning: `eval_metric` in `fit` method is deprecated for better compatibility with scikit-learn, use `eval_metric` in constructor or`set_params` instead.\n",
      "  UserWarning,\n",
      "\n",
      "/Users/jasonnoble/opt/anaconda3/envs/PythonData/lib/python3.7/site-packages/xgboost/sklearn.py:797: UserWarning: `early_stopping_rounds` in `fit` method is deprecated for better compatibility with scikit-learn, use `early_stopping_rounds` in constructor or`set_params` instead.\n",
      "  UserWarning,\n",
      "\n"
     ]
    },
    {
     "name": "stdout",
     "output_type": "stream",
     "text": [
      "SCORE:                                                                          \n",
      "0.7595844218968345                                                              \n",
      " 55%|███▊   | 55/100 [01:22<01:08,  1.53s/trial, best loss: -0.7604350203536059]"
     ]
    },
    {
     "name": "stderr",
     "output_type": "stream",
     "text": [
      "/Users/jasonnoble/opt/anaconda3/envs/PythonData/lib/python3.7/site-packages/xgboost/sklearn.py:797: UserWarning: `eval_metric` in `fit` method is deprecated for better compatibility with scikit-learn, use `eval_metric` in constructor or`set_params` instead.\n",
      "  UserWarning,\n",
      "\n",
      "/Users/jasonnoble/opt/anaconda3/envs/PythonData/lib/python3.7/site-packages/xgboost/sklearn.py:797: UserWarning: `early_stopping_rounds` in `fit` method is deprecated for better compatibility with scikit-learn, use `early_stopping_rounds` in constructor or`set_params` instead.\n",
      "  UserWarning,\n",
      "\n"
     ]
    },
    {
     "name": "stdout",
     "output_type": "stream",
     "text": [
      "SCORE:                                                                          \n",
      "0.7581262531137979                                                              \n",
      " 56%|███▉   | 56/100 [01:23<01:05,  1.50s/trial, best loss: -0.7604350203536059]"
     ]
    },
    {
     "name": "stderr",
     "output_type": "stream",
     "text": [
      "/Users/jasonnoble/opt/anaconda3/envs/PythonData/lib/python3.7/site-packages/xgboost/sklearn.py:797: UserWarning: `eval_metric` in `fit` method is deprecated for better compatibility with scikit-learn, use `eval_metric` in constructor or`set_params` instead.\n",
      "  UserWarning,\n",
      "\n",
      "/Users/jasonnoble/opt/anaconda3/envs/PythonData/lib/python3.7/site-packages/xgboost/sklearn.py:797: UserWarning: `early_stopping_rounds` in `fit` method is deprecated for better compatibility with scikit-learn, use `early_stopping_rounds` in constructor or`set_params` instead.\n",
      "  UserWarning,\n",
      "\n"
     ]
    },
    {
     "name": "stdout",
     "output_type": "stream",
     "text": [
      "SCORE:                                                                          \n",
      "0.7590376086031958                                                              \n",
      " 57%|███▉   | 57/100 [01:24<01:02,  1.45s/trial, best loss: -0.7604350203536059]"
     ]
    },
    {
     "name": "stderr",
     "output_type": "stream",
     "text": [
      "/Users/jasonnoble/opt/anaconda3/envs/PythonData/lib/python3.7/site-packages/xgboost/sklearn.py:797: UserWarning: `eval_metric` in `fit` method is deprecated for better compatibility with scikit-learn, use `eval_metric` in constructor or`set_params` instead.\n",
      "  UserWarning,\n",
      "\n",
      "/Users/jasonnoble/opt/anaconda3/envs/PythonData/lib/python3.7/site-packages/xgboost/sklearn.py:797: UserWarning: `early_stopping_rounds` in `fit` method is deprecated for better compatibility with scikit-learn, use `early_stopping_rounds` in constructor or`set_params` instead.\n",
      "  UserWarning,\n",
      "\n"
     ]
    },
    {
     "name": "stdout",
     "output_type": "stream",
     "text": [
      "SCORE:                                                                          \n",
      "0.7585515523421836                                                              \n",
      " 58%|████   | 58/100 [01:26<00:59,  1.41s/trial, best loss: -0.7604350203536059]"
     ]
    },
    {
     "name": "stderr",
     "output_type": "stream",
     "text": [
      "/Users/jasonnoble/opt/anaconda3/envs/PythonData/lib/python3.7/site-packages/xgboost/sklearn.py:797: UserWarning: `eval_metric` in `fit` method is deprecated for better compatibility with scikit-learn, use `eval_metric` in constructor or`set_params` instead.\n",
      "  UserWarning,\n",
      "\n",
      "/Users/jasonnoble/opt/anaconda3/envs/PythonData/lib/python3.7/site-packages/xgboost/sklearn.py:797: UserWarning: `early_stopping_rounds` in `fit` method is deprecated for better compatibility with scikit-learn, use `early_stopping_rounds` in constructor or`set_params` instead.\n",
      "  UserWarning,\n",
      "\n"
     ]
    },
    {
     "name": "stdout",
     "output_type": "stream",
     "text": [
      "SCORE:                                                                          \n",
      "0.7601919922230999                                                              \n",
      " 59%|████▏  | 59/100 [01:27<00:58,  1.42s/trial, best loss: -0.7604350203536059]"
     ]
    },
    {
     "name": "stderr",
     "output_type": "stream",
     "text": [
      "/Users/jasonnoble/opt/anaconda3/envs/PythonData/lib/python3.7/site-packages/xgboost/sklearn.py:797: UserWarning: `eval_metric` in `fit` method is deprecated for better compatibility with scikit-learn, use `eval_metric` in constructor or`set_params` instead.\n",
      "  UserWarning,\n",
      "\n",
      "/Users/jasonnoble/opt/anaconda3/envs/PythonData/lib/python3.7/site-packages/xgboost/sklearn.py:797: UserWarning: `early_stopping_rounds` in `fit` method is deprecated for better compatibility with scikit-learn, use `early_stopping_rounds` in constructor or`set_params` instead.\n",
      "  UserWarning,\n",
      "\n"
     ]
    },
    {
     "name": "stdout",
     "output_type": "stream",
     "text": [
      "SCORE:                                                                          \n",
      "0.756060514004496                                                               \n",
      " 60%|████▏  | 60/100 [01:29<00:55,  1.39s/trial, best loss: -0.7604350203536059]"
     ]
    },
    {
     "name": "stderr",
     "output_type": "stream",
     "text": [
      "/Users/jasonnoble/opt/anaconda3/envs/PythonData/lib/python3.7/site-packages/xgboost/sklearn.py:797: UserWarning: `eval_metric` in `fit` method is deprecated for better compatibility with scikit-learn, use `eval_metric` in constructor or`set_params` instead.\n",
      "  UserWarning,\n",
      "\n",
      "/Users/jasonnoble/opt/anaconda3/envs/PythonData/lib/python3.7/site-packages/xgboost/sklearn.py:797: UserWarning: `early_stopping_rounds` in `fit` method is deprecated for better compatibility with scikit-learn, use `early_stopping_rounds` in constructor or`set_params` instead.\n",
      "  UserWarning,\n",
      "\n"
     ]
    },
    {
     "name": "stdout",
     "output_type": "stream",
     "text": [
      "SCORE:                                                                          \n",
      "0.7581870101464244                                                              \n",
      " 61%|████▎  | 61/100 [01:30<00:55,  1.42s/trial, best loss: -0.7604350203536059]"
     ]
    },
    {
     "name": "stderr",
     "output_type": "stream",
     "text": [
      "/Users/jasonnoble/opt/anaconda3/envs/PythonData/lib/python3.7/site-packages/xgboost/sklearn.py:797: UserWarning: `eval_metric` in `fit` method is deprecated for better compatibility with scikit-learn, use `eval_metric` in constructor or`set_params` instead.\n",
      "  UserWarning,\n",
      "\n",
      "/Users/jasonnoble/opt/anaconda3/envs/PythonData/lib/python3.7/site-packages/xgboost/sklearn.py:797: UserWarning: `early_stopping_rounds` in `fit` method is deprecated for better compatibility with scikit-learn, use `early_stopping_rounds` in constructor or`set_params` instead.\n",
      "  UserWarning,\n",
      "\n"
     ]
    },
    {
     "name": "stdout",
     "output_type": "stream",
     "text": [
      "SCORE:                                                                          \n",
      "0.7587945804726897                                                              \n",
      " 62%|████▎  | 62/100 [01:32<00:56,  1.47s/trial, best loss: -0.7604350203536059]"
     ]
    },
    {
     "name": "stderr",
     "output_type": "stream",
     "text": [
      "/Users/jasonnoble/opt/anaconda3/envs/PythonData/lib/python3.7/site-packages/xgboost/sklearn.py:797: UserWarning: `eval_metric` in `fit` method is deprecated for better compatibility with scikit-learn, use `eval_metric` in constructor or`set_params` instead.\n",
      "  UserWarning,\n",
      "\n",
      "/Users/jasonnoble/opt/anaconda3/envs/PythonData/lib/python3.7/site-packages/xgboost/sklearn.py:797: UserWarning: `early_stopping_rounds` in `fit` method is deprecated for better compatibility with scikit-learn, use `early_stopping_rounds` in constructor or`set_params` instead.\n",
      "  UserWarning,\n",
      "\n"
     ]
    },
    {
     "name": "stdout",
     "output_type": "stream",
     "text": [
      "SCORE:                                                                          \n",
      "0.7581870101464244                                                              \n",
      " 63%|████▍  | 63/100 [01:33<00:55,  1.50s/trial, best loss: -0.7604350203536059]"
     ]
    },
    {
     "name": "stderr",
     "output_type": "stream",
     "text": [
      "/Users/jasonnoble/opt/anaconda3/envs/PythonData/lib/python3.7/site-packages/xgboost/sklearn.py:797: UserWarning: `eval_metric` in `fit` method is deprecated for better compatibility with scikit-learn, use `eval_metric` in constructor or`set_params` instead.\n",
      "  UserWarning,\n",
      "\n",
      "/Users/jasonnoble/opt/anaconda3/envs/PythonData/lib/python3.7/site-packages/xgboost/sklearn.py:797: UserWarning: `early_stopping_rounds` in `fit` method is deprecated for better compatibility with scikit-learn, use `early_stopping_rounds` in constructor or`set_params` instead.\n",
      "  UserWarning,\n",
      "\n"
     ]
    },
    {
     "name": "stdout",
     "output_type": "stream",
     "text": [
      "SCORE:                                                                          \n",
      "0.7559997569718695                                                              \n",
      " 64%|████▍  | 64/100 [01:35<00:52,  1.45s/trial, best loss: -0.7604350203536059]"
     ]
    },
    {
     "name": "stderr",
     "output_type": "stream",
     "text": [
      "/Users/jasonnoble/opt/anaconda3/envs/PythonData/lib/python3.7/site-packages/xgboost/sklearn.py:797: UserWarning: `eval_metric` in `fit` method is deprecated for better compatibility with scikit-learn, use `eval_metric` in constructor or`set_params` instead.\n",
      "  UserWarning,\n",
      "\n",
      "/Users/jasonnoble/opt/anaconda3/envs/PythonData/lib/python3.7/site-packages/xgboost/sklearn.py:797: UserWarning: `early_stopping_rounds` in `fit` method is deprecated for better compatibility with scikit-learn, use `early_stopping_rounds` in constructor or`set_params` instead.\n",
      "  UserWarning,\n",
      "\n"
     ]
    },
    {
     "name": "stdout",
     "output_type": "stream",
     "text": [
      "SCORE:                                                                          \n",
      "0.7603135062883529                                                              \n",
      " 65%|████▌  | 65/100 [01:36<00:49,  1.43s/trial, best loss: -0.7604350203536059]"
     ]
    },
    {
     "name": "stderr",
     "output_type": "stream",
     "text": [
      "/Users/jasonnoble/opt/anaconda3/envs/PythonData/lib/python3.7/site-packages/xgboost/sklearn.py:797: UserWarning: `eval_metric` in `fit` method is deprecated for better compatibility with scikit-learn, use `eval_metric` in constructor or`set_params` instead.\n",
      "  UserWarning,\n",
      "\n",
      "/Users/jasonnoble/opt/anaconda3/envs/PythonData/lib/python3.7/site-packages/xgboost/sklearn.py:797: UserWarning: `early_stopping_rounds` in `fit` method is deprecated for better compatibility with scikit-learn, use `early_stopping_rounds` in constructor or`set_params` instead.\n",
      "  UserWarning,\n",
      "\n"
     ]
    },
    {
     "name": "stdout",
     "output_type": "stream",
     "text": [
      "SCORE:                                                                          \n",
      "0.7581870101464244                                                              \n",
      " 66%|████▌  | 66/100 [01:37<00:49,  1.44s/trial, best loss: -0.7604350203536059]"
     ]
    },
    {
     "name": "stderr",
     "output_type": "stream",
     "text": [
      "/Users/jasonnoble/opt/anaconda3/envs/PythonData/lib/python3.7/site-packages/xgboost/sklearn.py:797: UserWarning: `eval_metric` in `fit` method is deprecated for better compatibility with scikit-learn, use `eval_metric` in constructor or`set_params` instead.\n",
      "  UserWarning,\n",
      "\n",
      "/Users/jasonnoble/opt/anaconda3/envs/PythonData/lib/python3.7/site-packages/xgboost/sklearn.py:797: UserWarning: `early_stopping_rounds` in `fit` method is deprecated for better compatibility with scikit-learn, use `early_stopping_rounds` in constructor or`set_params` instead.\n",
      "  UserWarning,\n",
      "\n"
     ]
    },
    {
     "name": "stdout",
     "output_type": "stream",
     "text": [
      "SCORE:                                                                          \n",
      "0.7604350203536059                                                              \n",
      " 67%|████▋  | 67/100 [01:39<00:46,  1.42s/trial, best loss: -0.7604350203536059]"
     ]
    },
    {
     "name": "stderr",
     "output_type": "stream",
     "text": [
      "/Users/jasonnoble/opt/anaconda3/envs/PythonData/lib/python3.7/site-packages/xgboost/sklearn.py:797: UserWarning: `eval_metric` in `fit` method is deprecated for better compatibility with scikit-learn, use `eval_metric` in constructor or`set_params` instead.\n",
      "  UserWarning,\n",
      "\n",
      "/Users/jasonnoble/opt/anaconda3/envs/PythonData/lib/python3.7/site-packages/xgboost/sklearn.py:797: UserWarning: `early_stopping_rounds` in `fit` method is deprecated for better compatibility with scikit-learn, use `early_stopping_rounds` in constructor or`set_params` instead.\n",
      "  UserWarning,\n",
      "\n"
     ]
    },
    {
     "name": "stdout",
     "output_type": "stream",
     "text": [
      "SCORE:                                                                          \n",
      "0.7584907953095571                                                              \n",
      " 68%|████▊  | 68/100 [01:40<00:45,  1.41s/trial, best loss: -0.7604350203536059]"
     ]
    },
    {
     "name": "stderr",
     "output_type": "stream",
     "text": [
      "/Users/jasonnoble/opt/anaconda3/envs/PythonData/lib/python3.7/site-packages/xgboost/sklearn.py:797: UserWarning: `eval_metric` in `fit` method is deprecated for better compatibility with scikit-learn, use `eval_metric` in constructor or`set_params` instead.\n",
      "  UserWarning,\n",
      "\n",
      "/Users/jasonnoble/opt/anaconda3/envs/PythonData/lib/python3.7/site-packages/xgboost/sklearn.py:797: UserWarning: `early_stopping_rounds` in `fit` method is deprecated for better compatibility with scikit-learn, use `early_stopping_rounds` in constructor or`set_params` instead.\n",
      "  UserWarning,\n",
      "\n"
     ]
    },
    {
     "name": "stdout",
     "output_type": "stream",
     "text": [
      "SCORE:                                                                          \n",
      "0.7586123093748102                                                              \n",
      " 69%|████▊  | 69/100 [01:42<00:43,  1.40s/trial, best loss: -0.7604350203536059]"
     ]
    },
    {
     "name": "stderr",
     "output_type": "stream",
     "text": [
      "/Users/jasonnoble/opt/anaconda3/envs/PythonData/lib/python3.7/site-packages/xgboost/sklearn.py:797: UserWarning: `eval_metric` in `fit` method is deprecated for better compatibility with scikit-learn, use `eval_metric` in constructor or`set_params` instead.\n",
      "  UserWarning,\n",
      "\n",
      "/Users/jasonnoble/opt/anaconda3/envs/PythonData/lib/python3.7/site-packages/xgboost/sklearn.py:797: UserWarning: `early_stopping_rounds` in `fit` method is deprecated for better compatibility with scikit-learn, use `early_stopping_rounds` in constructor or`set_params` instead.\n",
      "  UserWarning,\n",
      "\n"
     ]
    },
    {
     "name": "stdout",
     "output_type": "stream",
     "text": [
      "SCORE:                                                                          \n",
      "0.7589160945379427                                                              \n",
      " 70%|████▉  | 70/100 [01:43<00:41,  1.39s/trial, best loss: -0.7604350203536059]"
     ]
    },
    {
     "name": "stderr",
     "output_type": "stream",
     "text": [
      "/Users/jasonnoble/opt/anaconda3/envs/PythonData/lib/python3.7/site-packages/xgboost/sklearn.py:797: UserWarning: `eval_metric` in `fit` method is deprecated for better compatibility with scikit-learn, use `eval_metric` in constructor or`set_params` instead.\n",
      "  UserWarning,\n",
      "\n",
      "/Users/jasonnoble/opt/anaconda3/envs/PythonData/lib/python3.7/site-packages/xgboost/sklearn.py:797: UserWarning: `early_stopping_rounds` in `fit` method is deprecated for better compatibility with scikit-learn, use `early_stopping_rounds` in constructor or`set_params` instead.\n",
      "  UserWarning,\n",
      "\n"
     ]
    },
    {
     "name": "stdout",
     "output_type": "stream",
     "text": [
      "SCORE:                                                                          \n",
      "0.7583085242116775                                                              \n",
      " 71%|████▉  | 71/100 [01:44<00:39,  1.38s/trial, best loss: -0.7604350203536059]"
     ]
    },
    {
     "name": "stderr",
     "output_type": "stream",
     "text": [
      "/Users/jasonnoble/opt/anaconda3/envs/PythonData/lib/python3.7/site-packages/xgboost/sklearn.py:797: UserWarning: `eval_metric` in `fit` method is deprecated for better compatibility with scikit-learn, use `eval_metric` in constructor or`set_params` instead.\n",
      "  UserWarning,\n",
      "\n",
      "/Users/jasonnoble/opt/anaconda3/envs/PythonData/lib/python3.7/site-packages/xgboost/sklearn.py:797: UserWarning: `early_stopping_rounds` in `fit` method is deprecated for better compatibility with scikit-learn, use `early_stopping_rounds` in constructor or`set_params` instead.\n",
      "  UserWarning,\n",
      "\n"
     ]
    },
    {
     "name": "stdout",
     "output_type": "stream",
     "text": [
      "SCORE:                                                                          \n",
      "0.7590983656358223                                                              \n",
      " 72%|█████  | 72/100 [01:46<00:38,  1.39s/trial, best loss: -0.7604350203536059]"
     ]
    },
    {
     "name": "stderr",
     "output_type": "stream",
     "text": [
      "/Users/jasonnoble/opt/anaconda3/envs/PythonData/lib/python3.7/site-packages/xgboost/sklearn.py:797: UserWarning: `eval_metric` in `fit` method is deprecated for better compatibility with scikit-learn, use `eval_metric` in constructor or`set_params` instead.\n",
      "  UserWarning,\n",
      "\n",
      "/Users/jasonnoble/opt/anaconda3/envs/PythonData/lib/python3.7/site-packages/xgboost/sklearn.py:797: UserWarning: `early_stopping_rounds` in `fit` method is deprecated for better compatibility with scikit-learn, use `early_stopping_rounds` in constructor or`set_params` instead.\n",
      "  UserWarning,\n",
      "\n"
     ]
    },
    {
     "name": "stdout",
     "output_type": "stream",
     "text": [
      "SCORE:                                                                          \n",
      "0.7585515523421836                                                              \n",
      " 73%|█████  | 73/100 [01:47<00:37,  1.38s/trial, best loss: -0.7604350203536059]"
     ]
    },
    {
     "name": "stderr",
     "output_type": "stream",
     "text": [
      "/Users/jasonnoble/opt/anaconda3/envs/PythonData/lib/python3.7/site-packages/xgboost/sklearn.py:797: UserWarning: `eval_metric` in `fit` method is deprecated for better compatibility with scikit-learn, use `eval_metric` in constructor or`set_params` instead.\n",
      "  UserWarning,\n",
      "\n",
      "/Users/jasonnoble/opt/anaconda3/envs/PythonData/lib/python3.7/site-packages/xgboost/sklearn.py:797: UserWarning: `early_stopping_rounds` in `fit` method is deprecated for better compatibility with scikit-learn, use `early_stopping_rounds` in constructor or`set_params` instead.\n",
      "  UserWarning,\n",
      "\n"
     ]
    },
    {
     "name": "stdout",
     "output_type": "stream",
     "text": [
      "SCORE:                                                                          \n",
      "0.7585515523421836                                                              \n",
      " 74%|█████▏ | 74/100 [01:48<00:35,  1.37s/trial, best loss: -0.7604350203536059]"
     ]
    },
    {
     "name": "stderr",
     "output_type": "stream",
     "text": [
      "/Users/jasonnoble/opt/anaconda3/envs/PythonData/lib/python3.7/site-packages/xgboost/sklearn.py:797: UserWarning: `eval_metric` in `fit` method is deprecated for better compatibility with scikit-learn, use `eval_metric` in constructor or`set_params` instead.\n",
      "  UserWarning,\n",
      "\n",
      "/Users/jasonnoble/opt/anaconda3/envs/PythonData/lib/python3.7/site-packages/xgboost/sklearn.py:797: UserWarning: `early_stopping_rounds` in `fit` method is deprecated for better compatibility with scikit-learn, use `early_stopping_rounds` in constructor or`set_params` instead.\n",
      "  UserWarning,\n",
      "\n"
     ]
    },
    {
     "name": "stdout",
     "output_type": "stream",
     "text": [
      "SCORE:                                                                          \n",
      "0.7590983656358223                                                              \n",
      " 75%|█████▎ | 75/100 [01:50<00:34,  1.37s/trial, best loss: -0.7604350203536059]"
     ]
    },
    {
     "name": "stderr",
     "output_type": "stream",
     "text": [
      "/Users/jasonnoble/opt/anaconda3/envs/PythonData/lib/python3.7/site-packages/xgboost/sklearn.py:797: UserWarning: `eval_metric` in `fit` method is deprecated for better compatibility with scikit-learn, use `eval_metric` in constructor or`set_params` instead.\n",
      "  UserWarning,\n",
      "\n",
      "/Users/jasonnoble/opt/anaconda3/envs/PythonData/lib/python3.7/site-packages/xgboost/sklearn.py:797: UserWarning: `early_stopping_rounds` in `fit` method is deprecated for better compatibility with scikit-learn, use `early_stopping_rounds` in constructor or`set_params` instead.\n",
      "  UserWarning,\n",
      "\n"
     ]
    },
    {
     "name": "stdout",
     "output_type": "stream",
     "text": [
      "SCORE:                                                                          \n",
      "0.7594629078315815                                                              \n",
      " 76%|█████▎ | 76/100 [01:51<00:33,  1.40s/trial, best loss: -0.7604350203536059]"
     ]
    },
    {
     "name": "stderr",
     "output_type": "stream",
     "text": [
      "/Users/jasonnoble/opt/anaconda3/envs/PythonData/lib/python3.7/site-packages/xgboost/sklearn.py:797: UserWarning: `eval_metric` in `fit` method is deprecated for better compatibility with scikit-learn, use `eval_metric` in constructor or`set_params` instead.\n",
      "  UserWarning,\n",
      "\n",
      "/Users/jasonnoble/opt/anaconda3/envs/PythonData/lib/python3.7/site-packages/xgboost/sklearn.py:797: UserWarning: `early_stopping_rounds` in `fit` method is deprecated for better compatibility with scikit-learn, use `early_stopping_rounds` in constructor or`set_params` instead.\n",
      "  UserWarning,\n",
      "\n"
     ]
    },
    {
     "name": "stdout",
     "output_type": "stream",
     "text": [
      "SCORE:                                                                          \n",
      "0.7592806367337019                                                              \n",
      " 77%|█████▍ | 77/100 [01:53<00:33,  1.44s/trial, best loss: -0.7604350203536059]"
     ]
    },
    {
     "name": "stderr",
     "output_type": "stream",
     "text": [
      "/Users/jasonnoble/opt/anaconda3/envs/PythonData/lib/python3.7/site-packages/xgboost/sklearn.py:797: UserWarning: `eval_metric` in `fit` method is deprecated for better compatibility with scikit-learn, use `eval_metric` in constructor or`set_params` instead.\n",
      "  UserWarning,\n",
      "\n",
      "/Users/jasonnoble/opt/anaconda3/envs/PythonData/lib/python3.7/site-packages/xgboost/sklearn.py:797: UserWarning: `early_stopping_rounds` in `fit` method is deprecated for better compatibility with scikit-learn, use `early_stopping_rounds` in constructor or`set_params` instead.\n",
      "  UserWarning,\n",
      "\n"
     ]
    },
    {
     "name": "stdout",
     "output_type": "stream",
     "text": [
      "SCORE:                                                                          \n",
      "0.7584300382769306                                                              \n",
      " 78%|█████▍ | 78/100 [01:54<00:31,  1.44s/trial, best loss: -0.7604350203536059]"
     ]
    },
    {
     "name": "stderr",
     "output_type": "stream",
     "text": [
      "/Users/jasonnoble/opt/anaconda3/envs/PythonData/lib/python3.7/site-packages/xgboost/sklearn.py:797: UserWarning: `eval_metric` in `fit` method is deprecated for better compatibility with scikit-learn, use `eval_metric` in constructor or`set_params` instead.\n",
      "  UserWarning,\n",
      "\n",
      "/Users/jasonnoble/opt/anaconda3/envs/PythonData/lib/python3.7/site-packages/xgboost/sklearn.py:797: UserWarning: `early_stopping_rounds` in `fit` method is deprecated for better compatibility with scikit-learn, use `early_stopping_rounds` in constructor or`set_params` instead.\n",
      "  UserWarning,\n",
      "\n"
     ]
    },
    {
     "name": "stdout",
     "output_type": "stream",
     "text": [
      "SCORE:                                                                          \n",
      "0.758369281244304                                                               \n",
      " 79%|█████▌ | 79/100 [01:56<00:30,  1.47s/trial, best loss: -0.7604350203536059]"
     ]
    },
    {
     "name": "stderr",
     "output_type": "stream",
     "text": [
      "/Users/jasonnoble/opt/anaconda3/envs/PythonData/lib/python3.7/site-packages/xgboost/sklearn.py:797: UserWarning: `eval_metric` in `fit` method is deprecated for better compatibility with scikit-learn, use `eval_metric` in constructor or`set_params` instead.\n",
      "  UserWarning,\n",
      "\n",
      "/Users/jasonnoble/opt/anaconda3/envs/PythonData/lib/python3.7/site-packages/xgboost/sklearn.py:797: UserWarning: `early_stopping_rounds` in `fit` method is deprecated for better compatibility with scikit-learn, use `early_stopping_rounds` in constructor or`set_params` instead.\n",
      "  UserWarning,\n",
      "\n"
     ]
    },
    {
     "name": "stdout",
     "output_type": "stream",
     "text": [
      "SCORE:                                                                          \n",
      "0.7595844218968345                                                              \n",
      " 80%|█████▌ | 80/100 [01:57<00:29,  1.49s/trial, best loss: -0.7604350203536059]"
     ]
    },
    {
     "name": "stderr",
     "output_type": "stream",
     "text": [
      "/Users/jasonnoble/opt/anaconda3/envs/PythonData/lib/python3.7/site-packages/xgboost/sklearn.py:797: UserWarning: `eval_metric` in `fit` method is deprecated for better compatibility with scikit-learn, use `eval_metric` in constructor or`set_params` instead.\n",
      "  UserWarning,\n",
      "\n",
      "/Users/jasonnoble/opt/anaconda3/envs/PythonData/lib/python3.7/site-packages/xgboost/sklearn.py:797: UserWarning: `early_stopping_rounds` in `fit` method is deprecated for better compatibility with scikit-learn, use `early_stopping_rounds` in constructor or`set_params` instead.\n",
      "  UserWarning,\n",
      "\n"
     ]
    },
    {
     "name": "stdout",
     "output_type": "stream",
     "text": [
      "SCORE:                                                                          \n",
      "0.7581262531137979                                                              \n",
      " 81%|█████▋ | 81/100 [01:59<00:27,  1.47s/trial, best loss: -0.7604350203536059]"
     ]
    },
    {
     "name": "stderr",
     "output_type": "stream",
     "text": [
      "/Users/jasonnoble/opt/anaconda3/envs/PythonData/lib/python3.7/site-packages/xgboost/sklearn.py:797: UserWarning: `eval_metric` in `fit` method is deprecated for better compatibility with scikit-learn, use `eval_metric` in constructor or`set_params` instead.\n",
      "  UserWarning,\n",
      "\n",
      "/Users/jasonnoble/opt/anaconda3/envs/PythonData/lib/python3.7/site-packages/xgboost/sklearn.py:797: UserWarning: `early_stopping_rounds` in `fit` method is deprecated for better compatibility with scikit-learn, use `early_stopping_rounds` in constructor or`set_params` instead.\n",
      "  UserWarning,\n",
      "\n"
     ]
    },
    {
     "name": "stdout",
     "output_type": "stream",
     "text": [
      "SCORE:                                                                          \n",
      "0.7598882070599672                                                              \n",
      " 82%|█████▋ | 82/100 [02:00<00:26,  1.45s/trial, best loss: -0.7604350203536059]"
     ]
    },
    {
     "name": "stderr",
     "output_type": "stream",
     "text": [
      "/Users/jasonnoble/opt/anaconda3/envs/PythonData/lib/python3.7/site-packages/xgboost/sklearn.py:797: UserWarning: `eval_metric` in `fit` method is deprecated for better compatibility with scikit-learn, use `eval_metric` in constructor or`set_params` instead.\n",
      "  UserWarning,\n",
      "\n",
      "/Users/jasonnoble/opt/anaconda3/envs/PythonData/lib/python3.7/site-packages/xgboost/sklearn.py:797: UserWarning: `early_stopping_rounds` in `fit` method is deprecated for better compatibility with scikit-learn, use `early_stopping_rounds` in constructor or`set_params` instead.\n",
      "  UserWarning,\n",
      "\n"
     ]
    },
    {
     "name": "stdout",
     "output_type": "stream",
     "text": [
      "SCORE:                                                                          \n",
      "0.7564858132328817                                                              \n",
      " 83%|█████▊ | 83/100 [02:02<00:24,  1.45s/trial, best loss: -0.7604350203536059]"
     ]
    },
    {
     "name": "stderr",
     "output_type": "stream",
     "text": [
      "/Users/jasonnoble/opt/anaconda3/envs/PythonData/lib/python3.7/site-packages/xgboost/sklearn.py:797: UserWarning: `eval_metric` in `fit` method is deprecated for better compatibility with scikit-learn, use `eval_metric` in constructor or`set_params` instead.\n",
      "  UserWarning,\n",
      "\n",
      "/Users/jasonnoble/opt/anaconda3/envs/PythonData/lib/python3.7/site-packages/xgboost/sklearn.py:797: UserWarning: `early_stopping_rounds` in `fit` method is deprecated for better compatibility with scikit-learn, use `early_stopping_rounds` in constructor or`set_params` instead.\n",
      "  UserWarning,\n",
      "\n"
     ]
    },
    {
     "name": "stdout",
     "output_type": "stream",
     "text": [
      "SCORE:                                                                          \n",
      "0.7584907953095571                                                              \n",
      " 84%|█████▉ | 84/100 [02:03<00:22,  1.43s/trial, best loss: -0.7604350203536059]"
     ]
    },
    {
     "name": "stderr",
     "output_type": "stream",
     "text": [
      "/Users/jasonnoble/opt/anaconda3/envs/PythonData/lib/python3.7/site-packages/xgboost/sklearn.py:797: UserWarning: `eval_metric` in `fit` method is deprecated for better compatibility with scikit-learn, use `eval_metric` in constructor or`set_params` instead.\n",
      "  UserWarning,\n",
      "\n",
      "/Users/jasonnoble/opt/anaconda3/envs/PythonData/lib/python3.7/site-packages/xgboost/sklearn.py:797: UserWarning: `early_stopping_rounds` in `fit` method is deprecated for better compatibility with scikit-learn, use `early_stopping_rounds` in constructor or`set_params` instead.\n",
      "  UserWarning,\n",
      "\n"
     ]
    },
    {
     "name": "stdout",
     "output_type": "stream",
     "text": [
      "SCORE:                                                                          \n",
      "0.7564250562002551                                                              \n",
      " 85%|█████▉ | 85/100 [02:04<00:21,  1.41s/trial, best loss: -0.7604350203536059]"
     ]
    },
    {
     "name": "stderr",
     "output_type": "stream",
     "text": [
      "/Users/jasonnoble/opt/anaconda3/envs/PythonData/lib/python3.7/site-packages/xgboost/sklearn.py:797: UserWarning: `eval_metric` in `fit` method is deprecated for better compatibility with scikit-learn, use `eval_metric` in constructor or`set_params` instead.\n",
      "  UserWarning,\n",
      "\n",
      "/Users/jasonnoble/opt/anaconda3/envs/PythonData/lib/python3.7/site-packages/xgboost/sklearn.py:797: UserWarning: `early_stopping_rounds` in `fit` method is deprecated for better compatibility with scikit-learn, use `early_stopping_rounds` in constructor or`set_params` instead.\n",
      "  UserWarning,\n",
      "\n"
     ]
    },
    {
     "name": "stdout",
     "output_type": "stream",
     "text": [
      "SCORE:                                                                          \n",
      "0.7589160945379427                                                              \n",
      " 86%|██████ | 86/100 [02:06<00:19,  1.41s/trial, best loss: -0.7604350203536059]"
     ]
    },
    {
     "name": "stderr",
     "output_type": "stream",
     "text": [
      "/Users/jasonnoble/opt/anaconda3/envs/PythonData/lib/python3.7/site-packages/xgboost/sklearn.py:797: UserWarning: `eval_metric` in `fit` method is deprecated for better compatibility with scikit-learn, use `eval_metric` in constructor or`set_params` instead.\n",
      "  UserWarning,\n",
      "\n",
      "/Users/jasonnoble/opt/anaconda3/envs/PythonData/lib/python3.7/site-packages/xgboost/sklearn.py:797: UserWarning: `early_stopping_rounds` in `fit` method is deprecated for better compatibility with scikit-learn, use `early_stopping_rounds` in constructor or`set_params` instead.\n",
      "  UserWarning,\n",
      "\n"
     ]
    },
    {
     "name": "stdout",
     "output_type": "stream",
     "text": [
      "SCORE:                                                                          \n",
      "0.7587945804726897                                                              \n",
      " 87%|██████ | 87/100 [02:07<00:19,  1.47s/trial, best loss: -0.7604350203536059]"
     ]
    },
    {
     "name": "stderr",
     "output_type": "stream",
     "text": [
      "/Users/jasonnoble/opt/anaconda3/envs/PythonData/lib/python3.7/site-packages/xgboost/sklearn.py:797: UserWarning: `eval_metric` in `fit` method is deprecated for better compatibility with scikit-learn, use `eval_metric` in constructor or`set_params` instead.\n",
      "  UserWarning,\n",
      "\n",
      "/Users/jasonnoble/opt/anaconda3/envs/PythonData/lib/python3.7/site-packages/xgboost/sklearn.py:797: UserWarning: `early_stopping_rounds` in `fit` method is deprecated for better compatibility with scikit-learn, use `early_stopping_rounds` in constructor or`set_params` instead.\n",
      "  UserWarning,\n",
      "\n"
     ]
    },
    {
     "name": "stdout",
     "output_type": "stream",
     "text": [
      "SCORE:                                                                          \n",
      "0.7592198797010754                                                              \n",
      " 88%|██████▏| 88/100 [02:09<00:17,  1.45s/trial, best loss: -0.7604350203536059]"
     ]
    },
    {
     "name": "stderr",
     "output_type": "stream",
     "text": [
      "/Users/jasonnoble/opt/anaconda3/envs/PythonData/lib/python3.7/site-packages/xgboost/sklearn.py:797: UserWarning: `eval_metric` in `fit` method is deprecated for better compatibility with scikit-learn, use `eval_metric` in constructor or`set_params` instead.\n",
      "  UserWarning,\n",
      "\n",
      "/Users/jasonnoble/opt/anaconda3/envs/PythonData/lib/python3.7/site-packages/xgboost/sklearn.py:797: UserWarning: `early_stopping_rounds` in `fit` method is deprecated for better compatibility with scikit-learn, use `early_stopping_rounds` in constructor or`set_params` instead.\n",
      "  UserWarning,\n",
      "\n"
     ]
    },
    {
     "name": "stdout",
     "output_type": "stream",
     "text": [
      "SCORE:                                                                          \n",
      "0.7601312351904733                                                              \n",
      " 89%|██████▏| 89/100 [02:10<00:15,  1.42s/trial, best loss: -0.7604350203536059]"
     ]
    },
    {
     "name": "stderr",
     "output_type": "stream",
     "text": [
      "/Users/jasonnoble/opt/anaconda3/envs/PythonData/lib/python3.7/site-packages/xgboost/sklearn.py:797: UserWarning: `eval_metric` in `fit` method is deprecated for better compatibility with scikit-learn, use `eval_metric` in constructor or`set_params` instead.\n",
      "  UserWarning,\n",
      "\n",
      "/Users/jasonnoble/opt/anaconda3/envs/PythonData/lib/python3.7/site-packages/xgboost/sklearn.py:797: UserWarning: `early_stopping_rounds` in `fit` method is deprecated for better compatibility with scikit-learn, use `early_stopping_rounds` in constructor or`set_params` instead.\n",
      "  UserWarning,\n",
      "\n"
     ]
    },
    {
     "name": "stdout",
     "output_type": "stream",
     "text": [
      "SCORE:                                                                          \n",
      "0.7599489640925937                                                              \n",
      " 90%|██████▎| 90/100 [02:11<00:14,  1.40s/trial, best loss: -0.7604350203536059]"
     ]
    },
    {
     "name": "stderr",
     "output_type": "stream",
     "text": [
      "/Users/jasonnoble/opt/anaconda3/envs/PythonData/lib/python3.7/site-packages/xgboost/sklearn.py:797: UserWarning: `eval_metric` in `fit` method is deprecated for better compatibility with scikit-learn, use `eval_metric` in constructor or`set_params` instead.\n",
      "  UserWarning,\n",
      "\n",
      "/Users/jasonnoble/opt/anaconda3/envs/PythonData/lib/python3.7/site-packages/xgboost/sklearn.py:797: UserWarning: `early_stopping_rounds` in `fit` method is deprecated for better compatibility with scikit-learn, use `early_stopping_rounds` in constructor or`set_params` instead.\n",
      "  UserWarning,\n",
      "\n"
     ]
    },
    {
     "name": "stdout",
     "output_type": "stream",
     "text": [
      "SCORE:                                                                          \n",
      "0.7589160945379427                                                              \n",
      " 91%|██████▎| 91/100 [02:13<00:12,  1.38s/trial, best loss: -0.7604350203536059]"
     ]
    },
    {
     "name": "stderr",
     "output_type": "stream",
     "text": [
      "/Users/jasonnoble/opt/anaconda3/envs/PythonData/lib/python3.7/site-packages/xgboost/sklearn.py:797: UserWarning: `eval_metric` in `fit` method is deprecated for better compatibility with scikit-learn, use `eval_metric` in constructor or`set_params` instead.\n",
      "  UserWarning,\n",
      "\n",
      "/Users/jasonnoble/opt/anaconda3/envs/PythonData/lib/python3.7/site-packages/xgboost/sklearn.py:797: UserWarning: `early_stopping_rounds` in `fit` method is deprecated for better compatibility with scikit-learn, use `early_stopping_rounds` in constructor or`set_params` instead.\n",
      "  UserWarning,\n",
      "\n"
     ]
    },
    {
     "name": "stdout",
     "output_type": "stream",
     "text": [
      "SCORE:                                                                          \n",
      "0.7584907953095571                                                              \n",
      " 92%|██████▍| 92/100 [02:14<00:10,  1.37s/trial, best loss: -0.7604350203536059]"
     ]
    },
    {
     "name": "stderr",
     "output_type": "stream",
     "text": [
      "/Users/jasonnoble/opt/anaconda3/envs/PythonData/lib/python3.7/site-packages/xgboost/sklearn.py:797: UserWarning: `eval_metric` in `fit` method is deprecated for better compatibility with scikit-learn, use `eval_metric` in constructor or`set_params` instead.\n",
      "  UserWarning,\n",
      "\n",
      "/Users/jasonnoble/opt/anaconda3/envs/PythonData/lib/python3.7/site-packages/xgboost/sklearn.py:797: UserWarning: `early_stopping_rounds` in `fit` method is deprecated for better compatibility with scikit-learn, use `early_stopping_rounds` in constructor or`set_params` instead.\n",
      "  UserWarning,\n",
      "\n"
     ]
    },
    {
     "name": "stdout",
     "output_type": "stream",
     "text": [
      "SCORE:                                                                          \n",
      "0.7581870101464244                                                              \n",
      " 93%|██████▌| 93/100 [02:15<00:09,  1.35s/trial, best loss: -0.7604350203536059]"
     ]
    },
    {
     "name": "stderr",
     "output_type": "stream",
     "text": [
      "/Users/jasonnoble/opt/anaconda3/envs/PythonData/lib/python3.7/site-packages/xgboost/sklearn.py:797: UserWarning: `eval_metric` in `fit` method is deprecated for better compatibility with scikit-learn, use `eval_metric` in constructor or`set_params` instead.\n",
      "  UserWarning,\n",
      "\n",
      "/Users/jasonnoble/opt/anaconda3/envs/PythonData/lib/python3.7/site-packages/xgboost/sklearn.py:797: UserWarning: `early_stopping_rounds` in `fit` method is deprecated for better compatibility with scikit-learn, use `early_stopping_rounds` in constructor or`set_params` instead.\n",
      "  UserWarning,\n",
      "\n"
     ]
    },
    {
     "name": "stdout",
     "output_type": "stream",
     "text": [
      "SCORE:                                                                          \n",
      "0.7580047390485448                                                              \n",
      " 94%|██████▌| 94/100 [02:17<00:08,  1.35s/trial, best loss: -0.7604350203536059]"
     ]
    },
    {
     "name": "stderr",
     "output_type": "stream",
     "text": [
      "/Users/jasonnoble/opt/anaconda3/envs/PythonData/lib/python3.7/site-packages/xgboost/sklearn.py:797: UserWarning: `eval_metric` in `fit` method is deprecated for better compatibility with scikit-learn, use `eval_metric` in constructor or`set_params` instead.\n",
      "  UserWarning,\n",
      "\n",
      "/Users/jasonnoble/opt/anaconda3/envs/PythonData/lib/python3.7/site-packages/xgboost/sklearn.py:797: UserWarning: `early_stopping_rounds` in `fit` method is deprecated for better compatibility with scikit-learn, use `early_stopping_rounds` in constructor or`set_params` instead.\n",
      "  UserWarning,\n",
      "\n"
     ]
    },
    {
     "name": "stdout",
     "output_type": "stream",
     "text": [
      "SCORE:                                                                          \n",
      "0.7592806367337019                                                              \n",
      " 95%|██████▋| 95/100 [02:18<00:06,  1.39s/trial, best loss: -0.7604350203536059]"
     ]
    },
    {
     "name": "stderr",
     "output_type": "stream",
     "text": [
      "/Users/jasonnoble/opt/anaconda3/envs/PythonData/lib/python3.7/site-packages/xgboost/sklearn.py:797: UserWarning: `eval_metric` in `fit` method is deprecated for better compatibility with scikit-learn, use `eval_metric` in constructor or`set_params` instead.\n",
      "  UserWarning,\n",
      "\n",
      "/Users/jasonnoble/opt/anaconda3/envs/PythonData/lib/python3.7/site-packages/xgboost/sklearn.py:797: UserWarning: `early_stopping_rounds` in `fit` method is deprecated for better compatibility with scikit-learn, use `early_stopping_rounds` in constructor or`set_params` instead.\n",
      "  UserWarning,\n",
      "\n"
     ]
    },
    {
     "name": "stdout",
     "output_type": "stream",
     "text": [
      "SCORE:                                                                          \n",
      "0.7581870101464244                                                              \n",
      " 96%|██████▋| 96/100 [02:20<00:05,  1.43s/trial, best loss: -0.7604350203536059]"
     ]
    },
    {
     "name": "stderr",
     "output_type": "stream",
     "text": [
      "/Users/jasonnoble/opt/anaconda3/envs/PythonData/lib/python3.7/site-packages/xgboost/sklearn.py:797: UserWarning: `eval_metric` in `fit` method is deprecated for better compatibility with scikit-learn, use `eval_metric` in constructor or`set_params` instead.\n",
      "  UserWarning,\n",
      "\n",
      "/Users/jasonnoble/opt/anaconda3/envs/PythonData/lib/python3.7/site-packages/xgboost/sklearn.py:797: UserWarning: `early_stopping_rounds` in `fit` method is deprecated for better compatibility with scikit-learn, use `early_stopping_rounds` in constructor or`set_params` instead.\n",
      "  UserWarning,\n",
      "\n"
     ]
    },
    {
     "name": "stdout",
     "output_type": "stream",
     "text": [
      "SCORE:                                                                          \n",
      "0.7580654960811714                                                              \n",
      " 97%|██████▊| 97/100 [02:21<00:04,  1.44s/trial, best loss: -0.7604350203536059]"
     ]
    },
    {
     "name": "stderr",
     "output_type": "stream",
     "text": [
      "/Users/jasonnoble/opt/anaconda3/envs/PythonData/lib/python3.7/site-packages/xgboost/sklearn.py:797: UserWarning: `eval_metric` in `fit` method is deprecated for better compatibility with scikit-learn, use `eval_metric` in constructor or`set_params` instead.\n",
      "  UserWarning,\n",
      "\n",
      "/Users/jasonnoble/opt/anaconda3/envs/PythonData/lib/python3.7/site-packages/xgboost/sklearn.py:797: UserWarning: `early_stopping_rounds` in `fit` method is deprecated for better compatibility with scikit-learn, use `early_stopping_rounds` in constructor or`set_params` instead.\n",
      "  UserWarning,\n",
      "\n"
     ]
    },
    {
     "name": "stdout",
     "output_type": "stream",
     "text": [
      "SCORE:                                                                          \n",
      "0.7585515523421836                                                              \n",
      " 98%|██████▊| 98/100 [02:23<00:02,  1.44s/trial, best loss: -0.7604350203536059]"
     ]
    },
    {
     "name": "stderr",
     "output_type": "stream",
     "text": [
      "/Users/jasonnoble/opt/anaconda3/envs/PythonData/lib/python3.7/site-packages/xgboost/sklearn.py:797: UserWarning: `eval_metric` in `fit` method is deprecated for better compatibility with scikit-learn, use `eval_metric` in constructor or`set_params` instead.\n",
      "  UserWarning,\n",
      "\n",
      "/Users/jasonnoble/opt/anaconda3/envs/PythonData/lib/python3.7/site-packages/xgboost/sklearn.py:797: UserWarning: `early_stopping_rounds` in `fit` method is deprecated for better compatibility with scikit-learn, use `early_stopping_rounds` in constructor or`set_params` instead.\n",
      "  UserWarning,\n",
      "\n"
     ]
    },
    {
     "name": "stdout",
     "output_type": "stream",
     "text": [
      "SCORE:                                                                          \n",
      "0.7590983656358223                                                              \n",
      " 99%|██████▉| 99/100 [02:24<00:01,  1.43s/trial, best loss: -0.7604350203536059]"
     ]
    },
    {
     "name": "stderr",
     "output_type": "stream",
     "text": [
      "/Users/jasonnoble/opt/anaconda3/envs/PythonData/lib/python3.7/site-packages/xgboost/sklearn.py:797: UserWarning: `eval_metric` in `fit` method is deprecated for better compatibility with scikit-learn, use `eval_metric` in constructor or`set_params` instead.\n",
      "  UserWarning,\n",
      "\n",
      "/Users/jasonnoble/opt/anaconda3/envs/PythonData/lib/python3.7/site-packages/xgboost/sklearn.py:797: UserWarning: `early_stopping_rounds` in `fit` method is deprecated for better compatibility with scikit-learn, use `early_stopping_rounds` in constructor or`set_params` instead.\n",
      "  UserWarning,\n",
      "\n"
     ]
    },
    {
     "name": "stdout",
     "output_type": "stream",
     "text": [
      "SCORE:                                                                          \n",
      "0.7586730664074367                                                              \n",
      "100%|██████| 100/100 [02:26<00:00,  1.46s/trial, best loss: -0.7604350203536059]\n"
     ]
    }
   ],
   "source": [
    "# optimization algorithm\n",
    "\n",
    "trials = Trials()\n",
    "\n",
    "best_hyperparams = fmin(fn = objective,\n",
    "                        space = space,\n",
    "                        algo = tpe.suggest,\n",
    "                        max_evals = 100,\n",
    "                        trials = trials)"
   ]
  },
  {
   "cell_type": "code",
   "execution_count": 43,
   "id": "f0c39dd4",
   "metadata": {},
   "outputs": [
    {
     "name": "stdout",
     "output_type": "stream",
     "text": [
      "The best hyperparameters are :  \n",
      "\n",
      "{'colsample_bytree': 0.6586642260514318, 'gamma': 6.369028839498013, 'max_depth': 12.0, 'min_child_weight': 3.0, 'reg_alpha': 77.0, 'reg_lambda': 0.8705184540772957}\n"
     ]
    }
   ],
   "source": [
    "print(\"The best hyperparameters are : \",\"\\n\")\n",
    "print(best_hyperparams)"
   ]
  },
  {
   "cell_type": "code",
   "execution_count": 46,
   "id": "d011dc1c",
   "metadata": {},
   "outputs": [
    {
     "name": "stdout",
     "output_type": "stream",
     "text": [
      "              precision    recall  f1-score   support\n",
      "\n",
      "         0.0       0.78      0.75      0.77      8355\n",
      "         1.0       0.76      0.78      0.77      8104\n",
      "\n",
      "    accuracy                           0.77     16459\n",
      "   macro avg       0.77      0.77      0.77     16459\n",
      "weighted avg       0.77      0.77      0.77     16459\n",
      "\n",
      "Training Score: 0.7703135126377187\n",
      "Testing Score: 0.7685764627255605\n",
      "              precision    recall  f1-score   support\n",
      "\n",
      "         0.0       0.78      0.76      0.77      8355\n",
      "         1.0       0.76      0.78      0.77      8104\n",
      "\n",
      "    accuracy                           0.77     16459\n",
      "   macro avg       0.77      0.77      0.77     16459\n",
      "weighted avg       0.77      0.77      0.77     16459\n",
      "\n",
      "Training Score: 0.7707590732339599\n",
      "Testing Score: 0.7682119205298014\n",
      "              precision    recall  f1-score   support\n",
      "\n",
      "         0.0       0.78      0.76      0.77      8355\n",
      "         1.0       0.76      0.78      0.77      8104\n",
      "\n",
      "    accuracy                           0.77     16459\n",
      "   macro avg       0.77      0.77      0.77     16459\n",
      "weighted avg       0.77      0.77      0.77     16459\n",
      "\n",
      "Training Score: 0.7703945236552171\n",
      "Testing Score: 0.7690625189865727\n",
      "              precision    recall  f1-score   support\n",
      "\n",
      "         0.0       0.78      0.75      0.76      8355\n",
      "         1.0       0.75      0.78      0.76      8104\n",
      "\n",
      "    accuracy                           0.76     16459\n",
      "   macro avg       0.76      0.76      0.76     16459\n",
      "weighted avg       0.76      0.76      0.76     16459\n",
      "\n",
      "Training Score: 0.7624149384316267\n",
      "Testing Score: 0.7633513579196792\n"
     ]
    }
   ],
   "source": [
    "# Test best parameters with different eta values\n",
    "model_tester(XGBClassifier(seed=42, colsample_bytree = 0.6586642260514318, gamma = 6.369028839498013, max_depth = 12, min_child_weight = 3.0, reg_alpha = 77.0, reg_lambda = 0.8705184540772957), X, y)\n",
    "model_tester(XGBClassifier(seed=42, eta=0.2, colsample_bytree = 0.6586642260514318, gamma = 6.369028839498013, max_depth = 12, min_child_weight = 3.0, reg_alpha = 77.0, reg_lambda = 0.8705184540772957), X, y)\n",
    "model_tester(XGBClassifier(seed=42, eta=0.1, colsample_bytree = 0.6586642260514318, gamma = 6.369028839498013, max_depth = 12, min_child_weight = 3.0, reg_alpha = 77.0, reg_lambda = 0.8705184540772957), X, y)\n",
    "model_tester(XGBClassifier(seed=42, eta=0.01, colsample_bytree = 0.6586642260514318, gamma = 6.369028839498013, max_depth = 12, min_child_weight = 3.0, reg_alpha = 77.0, reg_lambda = 0.8705184540772957), X, y)"
   ]
  },
  {
   "cell_type": "markdown",
   "id": "7a0ee74d",
   "metadata": {},
   "source": [
    "With a testing accuracy of 0.76906 and recall of 0.76, the XGBoost Classifier slightly outperforms the ADABoost."
   ]
  },
  {
   "cell_type": "code",
   "execution_count": null,
   "id": "cd65e9b0",
   "metadata": {},
   "outputs": [],
   "source": []
  }
 ],
 "metadata": {
  "kernelspec": {
   "display_name": "PythonData",
   "language": "python",
   "name": "pythondata"
  },
  "language_info": {
   "codemirror_mode": {
    "name": "ipython",
    "version": 3
   },
   "file_extension": ".py",
   "mimetype": "text/x-python",
   "name": "python",
   "nbconvert_exporter": "python",
   "pygments_lexer": "ipython3",
   "version": "3.7.11"
  }
 },
 "nbformat": 4,
 "nbformat_minor": 5
}
